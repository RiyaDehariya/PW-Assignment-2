{
 "cells": [
  {
   "cell_type": "code",
   "execution_count": null,
   "id": "2a5b0cdf",
   "metadata": {},
   "outputs": [],
   "source": [
    "## String based practice problem¶"
   ]
  },
  {
   "cell_type": "markdown",
   "id": "ae5e7210",
   "metadata": {},
   "source": [
    "1.  Write a program to reverse a string."
   ]
  },
  {
   "cell_type": "code",
   "execution_count": 3,
   "id": "96a77a64",
   "metadata": {},
   "outputs": [
    {
     "name": "stdout",
     "output_type": "stream",
     "text": [
      "Enter the string pwskills\n",
      "The reversed string is :  sllikswp\n"
     ]
    }
   ],
   "source": [
    "string = input('Enter the string ')\n",
    "\n",
    "reversed_string = string[::-1]\n",
    "\n",
    "print(\"The reversed string is : \", reversed_string)\n",
    "    "
   ]
  },
  {
   "cell_type": "markdown",
   "id": "1255851c",
   "metadata": {},
   "source": [
    "2.  Check if a string is a palindrome."
   ]
  },
  {
   "cell_type": "code",
   "execution_count": 5,
   "id": "1cb75de2",
   "metadata": {},
   "outputs": [
    {
     "name": "stdout",
     "output_type": "stream",
     "text": [
      "Enter the string riya\n",
      "The given string is not a palindrome.\n"
     ]
    }
   ],
   "source": [
    "string = input('Enter the string ')\n",
    "reversed_string = string[::-1]\n",
    "if reversed_string == string:\n",
    "    print(\"The given string is a palindrome.\")\n",
    "else:\n",
    "    print(\"The given string is not a palindrome.\")"
   ]
  },
  {
   "cell_type": "markdown",
   "id": "605e0167",
   "metadata": {},
   "source": [
    "3.  Convert a string to uppercase."
   ]
  },
  {
   "cell_type": "code",
   "execution_count": 11,
   "id": "b75520ff",
   "metadata": {},
   "outputs": [
    {
     "name": "stdout",
     "output_type": "stream",
     "text": [
      "enter a string: i am riya\n",
      "The string in uppercase is : I AM RIYA\n"
     ]
    }
   ],
   "source": [
    "string = input(\"enter a string: \")\n",
    "print(\"The string in uppercase is :\", string.upper())"
   ]
  },
  {
   "cell_type": "markdown",
   "id": "fde41a86",
   "metadata": {},
   "source": [
    "4.  Convert a string to lowercase."
   ]
  },
  {
   "cell_type": "code",
   "execution_count": 10,
   "id": "8ef518c5",
   "metadata": {},
   "outputs": [
    {
     "name": "stdout",
     "output_type": "stream",
     "text": [
      "enter a string: I am Riya Dehariya\n",
      "The string in lowercase is : i am riya dehariya\n"
     ]
    }
   ],
   "source": [
    "string = input(\"enter a string: \")\n",
    "print(\"The string in lowercase is :\", string.lower())"
   ]
  },
  {
   "cell_type": "markdown",
   "id": "fb49f080",
   "metadata": {},
   "source": [
    "5. Count the number of vowels in a string."
   ]
  },
  {
   "cell_type": "code",
   "execution_count": 32,
   "id": "746b85f7",
   "metadata": {},
   "outputs": [
    {
     "name": "stdout",
     "output_type": "stream",
     "text": [
      "Enter a string : RIYA\n",
      "The total number of vowels in a string is : 2\n"
     ]
    }
   ],
   "source": [
    "string = input(\"Enter a string : \")\n",
    "vowel_count = 0\n",
    "string_lower = string.lower()\n",
    "for z in string_lower:\n",
    "    if z in 'aeiou':\n",
    "        vowel_count += 1\n",
    "    \n",
    "print(\"The total number of vowels in a string is :\", vowel_count)        "
   ]
  },
  {
   "cell_type": "markdown",
   "id": "d29569c5",
   "metadata": {},
   "source": [
    "6.  Count the number of consonants in a string."
   ]
  },
  {
   "cell_type": "code",
   "execution_count": 37,
   "id": "12e6191e",
   "metadata": {},
   "outputs": [
    {
     "name": "stdout",
     "output_type": "stream",
     "text": [
      "Enter a string : kiran\n",
      "The total number of vowels in a string is : 3\n"
     ]
    }
   ],
   "source": [
    "string = input(\"Enter a string : \")\n",
    "consonent_count = 0\n",
    "string_lower = string.lower()\n",
    "for z in string_lower:\n",
    "    if z!='a' and z!='e' and z!='i' and z!='o' and z!='u':\n",
    "        consonent_count += 1\n",
    "    \n",
    "print(\"The total number of vowels in a string is :\", consonent_count)   "
   ]
  },
  {
   "cell_type": "markdown",
   "id": "5cbbe798",
   "metadata": {},
   "source": [
    "7. Remove all whitespaces from a string."
   ]
  },
  {
   "cell_type": "code",
   "execution_count": 39,
   "id": "28a1e95a",
   "metadata": {},
   "outputs": [
    {
     "name": "stdout",
     "output_type": "stream",
     "text": [
      "Enter a string : my sister is an enginner\n",
      "The string after removing whitespaces is :  mysisterisanenginner\n"
     ]
    }
   ],
   "source": [
    "a = input(\"Enter a string : \")\n",
    "print(\"The string after removing whitespaces is : \", a.replace(\" \",\"\"))\n"
   ]
  },
  {
   "cell_type": "markdown",
   "id": "66d08faf",
   "metadata": {},
   "source": [
    "8. Find the length of a string without using the `len()` function."
   ]
  },
  {
   "cell_type": "code",
   "execution_count": 48,
   "id": "3df0c19e",
   "metadata": {},
   "outputs": [
    {
     "name": "stdout",
     "output_type": "stream",
     "text": [
      "Enter string : datascience course\n",
      "The length of a given string is: 18\n"
     ]
    }
   ],
   "source": [
    "a = input('Enter string : ')\n",
    "len_count = 0\n",
    "for i in a:\n",
    "    len_count += 1\n",
    "print('The length of a given string is:', len_count)        "
   ]
  },
  {
   "cell_type": "markdown",
   "id": "e9932a55",
   "metadata": {},
   "source": [
    "9.  Check if a string contains a specific word."
   ]
  },
  {
   "cell_type": "code",
   "execution_count": 59,
   "id": "88501152",
   "metadata": {},
   "outputs": [
    {
     "name": "stdout",
     "output_type": "stream",
     "text": [
      "Enter string : riya is a student girl\n",
      "The string contains a word girl\n"
     ]
    }
   ],
   "source": [
    "a = input('Enter string : ')\n",
    "if 'girl' in a:\n",
    "    print('The string contains a word girl')\n",
    "else:\n",
    "    print('The string does not contains a word girl')"
   ]
  },
  {
   "cell_type": "markdown",
   "id": "5f617782",
   "metadata": {},
   "source": [
    "10.  Replace a word in a string with another word."
   ]
  },
  {
   "cell_type": "code",
   "execution_count": 74,
   "id": "f5038677",
   "metadata": {},
   "outputs": [
    {
     "name": "stdout",
     "output_type": "stream",
     "text": [
      "Enter string : riya is a girl\n",
      "the string is : riya is a student\n"
     ]
    }
   ],
   "source": [
    "a = input('Enter string : ')\n",
    "\n",
    "print('The string is :', a.replace(\"girl\",\"student\"))\n"
   ]
  },
  {
   "cell_type": "markdown",
   "id": "6a37c686",
   "metadata": {},
   "source": [
    "11. Count the occurrences of a word in a string."
   ]
  },
  {
   "cell_type": "code",
   "execution_count": 80,
   "id": "931fbbf8",
   "metadata": {},
   "outputs": [
    {
     "name": "stdout",
     "output_type": "stream",
     "text": [
      "Enter string : The girl sitting next to her is a studious girl. this girl is a good student and she has many girls as a friend.\n",
      "The total number of count of the word girl is : 4\n"
     ]
    }
   ],
   "source": [
    "a = input('Enter string : ')\n",
    "b = a.count('girl')\n",
    "print('The total number of count of the word girl is :', b)\n"
   ]
  },
  {
   "cell_type": "markdown",
   "id": "1adae7c3",
   "metadata": {},
   "source": [
    "12. Find the first occurrence of a word in a string."
   ]
  },
  {
   "cell_type": "code",
   "execution_count": 91,
   "id": "ab5fa23b",
   "metadata": {},
   "outputs": [
    {
     "name": "stdout",
     "output_type": "stream",
     "text": [
      "The first occurence of a word in a given string is at :  5\n"
     ]
    }
   ],
   "source": [
    "a = \"This guy is a good guy\"\n",
    "b = a.find('guy')\n",
    "print('The first occurence of a word in a given string is at : ', b)"
   ]
  },
  {
   "cell_type": "markdown",
   "id": "2b590f0c",
   "metadata": {},
   "source": [
    "13. Find the last occurrence of a word in a string."
   ]
  },
  {
   "cell_type": "code",
   "execution_count": 93,
   "id": "a44118f9",
   "metadata": {},
   "outputs": [
    {
     "name": "stdout",
     "output_type": "stream",
     "text": [
      "The last occurence of a word in a given string is at :  43\n"
     ]
    }
   ],
   "source": [
    "a = \"This is best thing in the world that i got best peoples in my life.\"\n",
    "b = a.rfind('best')\n",
    "print('The last occurence of a word in a given string is at : ', b)"
   ]
  },
  {
   "cell_type": "markdown",
   "id": "eec1468d",
   "metadata": {},
   "source": [
    "14. Split a string into a list of words."
   ]
  },
  {
   "cell_type": "code",
   "execution_count": 102,
   "id": "3bfcd64f",
   "metadata": {},
   "outputs": [
    {
     "data": {
      "text/plain": [
       "['Tokyo', 'is', 'best', 'city', 'in', 'whole', 'World']"
      ]
     },
     "execution_count": 102,
     "metadata": {},
     "output_type": "execute_result"
    }
   ],
   "source": [
    "a = 'Tokyo is best city in whole World'\n",
    "b= a.split()\n",
    "b"
   ]
  },
  {
   "cell_type": "markdown",
   "id": "987290f3",
   "metadata": {},
   "source": [
    "15. Join a list of words into a string."
   ]
  },
  {
   "cell_type": "code",
   "execution_count": 107,
   "id": "8e291a76",
   "metadata": {},
   "outputs": [
    {
     "data": {
      "text/plain": [
       "'Mohit | Riya | Ankita'"
      ]
     },
     "execution_count": 107,
     "metadata": {},
     "output_type": "execute_result"
    }
   ],
   "source": [
    "z = ['Mohit', 'Riya', 'Ankita']\n",
    "x = ' | '\n",
    "x.join(z)"
   ]
  },
  {
   "cell_type": "markdown",
   "id": "9782c56c",
   "metadata": {},
   "source": [
    "16. Convert a string where words are separated by spaces to one where words are separated by underscores."
   ]
  },
  {
   "cell_type": "code",
   "execution_count": 108,
   "id": "40b58566",
   "metadata": {},
   "outputs": [
    {
     "data": {
      "text/plain": [
       "'Tokyo_is_situated_in_Japan'"
      ]
     },
     "execution_count": 108,
     "metadata": {},
     "output_type": "execute_result"
    }
   ],
   "source": [
    "a = 'Tokyo is situated in Japan'\n",
    "a.replace(' ','_')"
   ]
  },
  {
   "cell_type": "markdown",
   "id": "8d039290",
   "metadata": {},
   "source": [
    "17. Check if a string starts with a specific word or phrase."
   ]
  },
  {
   "cell_type": "code",
   "execution_count": 117,
   "id": "dc556a61",
   "metadata": {},
   "outputs": [
    {
     "data": {
      "text/plain": [
       "True"
      ]
     },
     "execution_count": 117,
     "metadata": {},
     "output_type": "execute_result"
    }
   ],
   "source": [
    "a = 'Tokyo is in Japan'\n",
    "a.startswith('Tokyo')"
   ]
  },
  {
   "cell_type": "markdown",
   "id": "ef71dd25",
   "metadata": {},
   "source": [
    "18. Check if a string ends with a specific word or phrase."
   ]
  },
  {
   "cell_type": "code",
   "execution_count": 120,
   "id": "588acd20",
   "metadata": {},
   "outputs": [
    {
     "data": {
      "text/plain": [
       "True"
      ]
     },
     "execution_count": 120,
     "metadata": {},
     "output_type": "execute_result"
    }
   ],
   "source": [
    "a = 'Apple is a Fruit'\n",
    "a.endswith('Fruit')"
   ]
  },
  {
   "cell_type": "markdown",
   "id": "48a0a78b",
   "metadata": {},
   "source": [
    "19. Convert a string to title case (e.g., \"hello world\" to \"Hello World\")."
   ]
  },
  {
   "cell_type": "code",
   "execution_count": 121,
   "id": "85aa34ce",
   "metadata": {},
   "outputs": [
    {
     "data": {
      "text/plain": [
       "'Jaipur Is Known As Pink City An Is Situated In Rajasthan'"
      ]
     },
     "execution_count": 121,
     "metadata": {},
     "output_type": "execute_result"
    }
   ],
   "source": [
    "a = 'Jaipur is known as pink city an is situated in rajasthan'\n",
    "a.title()"
   ]
  },
  {
   "cell_type": "markdown",
   "id": "78306152",
   "metadata": {},
   "source": [
    "20. Find the longest word in a string."
   ]
  },
  {
   "cell_type": "code",
   "execution_count": 124,
   "id": "7814b468",
   "metadata": {},
   "outputs": [
    {
     "name": "stdout",
     "output_type": "stream",
     "text": [
      "Longest word is:  rajasthan\n",
      "The length of longest word is:  9\n"
     ]
    }
   ],
   "source": [
    "a = 'Jaipur is known as pink city an is situated in rajasthan'\n",
    "longest = max(a.split(),key = len)         #split() to convert string to list and after splitting it is passed to max() function with keyword argument key = len which returns longest word from a string. \n",
    "print(\"Longest word is: \", longest)\n",
    "print(\"The length of longest word is: \", len(longest))\n"
   ]
  },
  {
   "cell_type": "markdown",
   "id": "19f71f92",
   "metadata": {},
   "source": [
    "21. Find the shortest word in a string."
   ]
  },
  {
   "cell_type": "code",
   "execution_count": 133,
   "id": "04899016",
   "metadata": {},
   "outputs": [
    {
     "name": "stdout",
     "output_type": "stream",
     "text": [
      "Shortest word is:  One\n",
      "The length of shortest word is:  3\n"
     ]
    }
   ],
   "source": [
    "a = 'One should eat healthy food'\n",
    "shortest = min(a.split(),key = len)         #split() to convert string to list and after splitting it is passed to min() function with keyword argument key = len which returns shortest word from a string. \n",
    "print(\"Shortest word is: \", shortest)\n",
    "print(\"The length of shortest word is: \", len(shortest))"
   ]
  },
  {
   "cell_type": "markdown",
   "id": "3ce70c7a",
   "metadata": {},
   "source": [
    "22. Reverse the order of words in a string."
   ]
  },
  {
   "cell_type": "code",
   "execution_count": 1,
   "id": "7d6b5d7c",
   "metadata": {},
   "outputs": [
    {
     "name": "stdout",
     "output_type": "stream",
     "text": [
      "food healthy eat should One\n"
     ]
    }
   ],
   "source": [
    "a = 'One should eat healthy food'\n",
    "b = a.split()             #split the string and store the resultant list in b\n",
    "b = list(reversed(b))     #reverse the list b using reversed function\n",
    "c = \" \"                   #declaring c for using join function\n",
    "print(c.join(b))          #join the words using join function and print it\n"
   ]
  },
  {
   "cell_type": "markdown",
   "id": "45a4b5aa",
   "metadata": {},
   "source": [
    "23. Check if a string is alphanumeric."
   ]
  },
  {
   "cell_type": "code",
   "execution_count": 35,
   "id": "bd1497b6",
   "metadata": {},
   "outputs": [
    {
     "name": "stdout",
     "output_type": "stream",
     "text": [
      "True\n"
     ]
    }
   ],
   "source": [
    "a = 'HelloWorld2345'\n",
    "c= a.isalnum()\n",
    "print(c)"
   ]
  },
  {
   "cell_type": "markdown",
   "id": "e112dbc5",
   "metadata": {},
   "source": [
    "24. Extract all digits from a string."
   ]
  },
  {
   "cell_type": "code",
   "execution_count": 45,
   "id": "bfcbf6e7",
   "metadata": {},
   "outputs": [
    {
     "name": "stdout",
     "output_type": "stream",
     "text": [
      "The original string is :  5 people ate 10 apples which means each person ate 2 apples\n",
      "The digits in given string are :  ['5', '10', '2']\n"
     ]
    }
   ],
   "source": [
    "a = '5 people ate 10 apples which means each person ate 2 apples'\n",
    "print(\"The original string is : \", a)\n",
    "a_list = a.split()\n",
    "b_list = []\n",
    "for i in a_list:\n",
    "    if i.isnumeric():\n",
    "        b_list.append(i)\n",
    "print(\"The digits in given string are : \", b_list)        \n",
    "        \n",
    "    "
   ]
  },
  {
   "cell_type": "markdown",
   "id": "1a2df434",
   "metadata": {},
   "source": [
    "25. Extract all alphabets from a string."
   ]
  },
  {
   "cell_type": "code",
   "execution_count": 55,
   "id": "be386c65",
   "metadata": {},
   "outputs": [
    {
     "name": "stdout",
     "output_type": "stream",
     "text": [
      "The given string is : acb8765*&5$234riya\n",
      "The characters in the string are :  acbriya\n"
     ]
    }
   ],
   "source": [
    "a = 'acb8765*&5$234riya'\n",
    "print(\"The given string is :\", a)\n",
    "b = \"\"\n",
    "for i in a:\n",
    "    if i.isalpha():\n",
    "        b = \"\".join([b,i])\n",
    "        \n",
    "print(\"The characters in the string are : \", b)        "
   ]
  },
  {
   "cell_type": "code",
   "execution_count": null,
   "id": "5bc0ce79",
   "metadata": {},
   "outputs": [],
   "source": [
    "26. Count the number of uppercase letters in a string."
   ]
  },
  {
   "cell_type": "code",
   "execution_count": 80,
   "id": "98eb7a66",
   "metadata": {},
   "outputs": [
    {
     "name": "stdout",
     "output_type": "stream",
     "text": [
      "The uppercase letters are :  4\n"
     ]
    }
   ],
   "source": [
    "a = 'Python Programming has Numpy and Pandas'\n",
    "b = 'ABCDEFGHIJKLMNOPQRSTUVWXYZ'\n",
    "count = 0\n",
    "for i in a:\n",
    "    if i in b:\n",
    "        count+=1\n",
    "print(\"The uppercase letters are : \", count)        "
   ]
  },
  {
   "cell_type": "markdown",
   "id": "ca29eb09",
   "metadata": {},
   "source": [
    "27. Count the number of lowercase letters in a string."
   ]
  },
  {
   "cell_type": "code",
   "execution_count": 81,
   "id": "84ff7ce5",
   "metadata": {},
   "outputs": [
    {
     "name": "stdout",
     "output_type": "stream",
     "text": [
      "The lowercase letters are :  30\n"
     ]
    }
   ],
   "source": [
    "a = 'Python Programming has Numpy and Pandas'\n",
    "count = 0\n",
    "for i in a:\n",
    "    if i.islower():\n",
    "        count+=1\n",
    "print(\"The lowercase letters are : \", count)        "
   ]
  },
  {
   "cell_type": "markdown",
   "id": "2b920339",
   "metadata": {},
   "source": [
    "28. Swap the case of each character in a string."
   ]
  },
  {
   "cell_type": "code",
   "execution_count": 83,
   "id": "58bf15cd",
   "metadata": {},
   "outputs": [
    {
     "data": {
      "text/plain": [
       "'pYTHON pROGRAMMING'"
      ]
     },
     "execution_count": 83,
     "metadata": {},
     "output_type": "execute_result"
    }
   ],
   "source": [
    "a = 'Python Programming'\n",
    "a.swapcase()"
   ]
  },
  {
   "cell_type": "markdown",
   "id": "6bd2c30a",
   "metadata": {},
   "source": [
    "29. Remove a specific word from a string."
   ]
  },
  {
   "cell_type": "code",
   "execution_count": 111,
   "id": "f447e0a1",
   "metadata": {},
   "outputs": [
    {
     "data": {
      "text/plain": [
       "' Various programming  are python,java and c++'"
      ]
     },
     "execution_count": 111,
     "metadata": {},
     "output_type": "execute_result"
    }
   ],
   "source": [
    "a = ' Various programming languages are python,java and c++'\n",
    "b = a.replace(\"languages\",\"\")\n",
    "b"
   ]
  },
  {
   "cell_type": "code",
   "execution_count": 96,
   "id": "3d743422",
   "metadata": {},
   "outputs": [
    {
     "data": {
      "text/plain": [
       "' Various programming languages are python,java and c++'"
      ]
     },
     "execution_count": 96,
     "metadata": {},
     "output_type": "execute_result"
    }
   ],
   "source": [
    "a"
   ]
  },
  {
   "cell_type": "markdown",
   "id": "6a2f8c80",
   "metadata": {},
   "source": [
    "30. Check if a string is a valid email address."
   ]
  },
  {
   "cell_type": "code",
   "execution_count": 1,
   "id": "47cd0b7a",
   "metadata": {},
   "outputs": [
    {
     "name": "stdout",
     "output_type": "stream",
     "text": [
      "True\n"
     ]
    }
   ],
   "source": [
    "def is_valid_email(email):\n",
    "    # Check if there is exactly one \"@\" symbol and at least one \".\"\n",
    "    if \"@\" in email and \".\" in email.split(\"@\")[-1]:\n",
    "        return True\n",
    "    return False\n",
    "\n",
    "email = \"example@test.com\"\n",
    "print(is_valid_email(email))"
   ]
  },
  {
   "cell_type": "markdown",
   "id": "0a237402",
   "metadata": {},
   "source": [
    "31. Extract the username from an email address string."
   ]
  },
  {
   "cell_type": "code",
   "execution_count": 2,
   "id": "248afed5",
   "metadata": {},
   "outputs": [
    {
     "name": "stdout",
     "output_type": "stream",
     "text": [
      "example\n"
     ]
    }
   ],
   "source": [
    "def extract_username(email):\n",
    "    # Split the string at \"@\" and return the first part\n",
    "    username = email.split(\"@\")[0]\n",
    "    return username\n",
    "\n",
    "# Test the function\n",
    "email = \"example@test.com\"\n",
    "print(extract_username(email))  "
   ]
  },
  {
   "cell_type": "code",
   "execution_count": null,
   "id": "3e67dfca",
   "metadata": {},
   "outputs": [],
   "source": [
    "32. Extract the domain name from an email address string."
   ]
  },
  {
   "cell_type": "code",
   "execution_count": 3,
   "id": "c1475b39",
   "metadata": {},
   "outputs": [
    {
     "name": "stdout",
     "output_type": "stream",
     "text": [
      "test.com\n"
     ]
    }
   ],
   "source": [
    "def extract_domain(email):\n",
    "    # Split the string at \"@\" and return the second part (domain)\n",
    "    domain = email.split(\"@\")[1]\n",
    "    return domain\n",
    "\n",
    "# Test the function\n",
    "email = \"example@test.com\"\n",
    "print(extract_domain(email)) "
   ]
  },
  {
   "cell_type": "markdown",
   "id": "07481adb",
   "metadata": {},
   "source": [
    "33. Replace multiple spaces in a string with a single space."
   ]
  },
  {
   "cell_type": "code",
   "execution_count": 132,
   "id": "d49ee4e8",
   "metadata": {},
   "outputs": [
    {
     "data": {
      "text/plain": [
       "'Pwskills python datascience'"
      ]
     },
     "execution_count": 132,
     "metadata": {},
     "output_type": "execute_result"
    }
   ],
   "source": [
    "a = 'Pwskills     python    datascience'\n",
    "b = \" \".join(a.split())        #first split the string and then join the words with single space\n",
    "b"
   ]
  },
  {
   "cell_type": "markdown",
   "id": "9d1f886b",
   "metadata": {},
   "source": [
    "34. Check if a string is a valid URL."
   ]
  },
  {
   "cell_type": "code",
   "execution_count": 4,
   "id": "aa8a4f24",
   "metadata": {},
   "outputs": [
    {
     "name": "stdout",
     "output_type": "stream",
     "text": [
      "True\n"
     ]
    }
   ],
   "source": [
    "def is_valid_url(url):\n",
    "    # Check if the string starts with a valid protocol and contains a \".\"\n",
    "    if url.startswith(\"http://\") or url.startswith(\"https://\") or url.startswith(\"ftp://\"):\n",
    "        if \".\" in url.split(\"//\")[1]:  # Check if there is a \".\" after the protocol\n",
    "            return True\n",
    "    return False\n",
    "\n",
    "# Test the function\n",
    "url = \"https://www.example.com\"\n",
    "print(is_valid_url(url)) "
   ]
  },
  {
   "cell_type": "code",
   "execution_count": null,
   "id": "ee33a5dd",
   "metadata": {},
   "outputs": [],
   "source": [
    "35. Extract the protocol (http or https) from a URL string."
   ]
  },
  {
   "cell_type": "code",
   "execution_count": 5,
   "id": "0c52edae",
   "metadata": {},
   "outputs": [
    {
     "name": "stdout",
     "output_type": "stream",
     "text": [
      "https\n"
     ]
    }
   ],
   "source": [
    "def extract_protocol(url):\n",
    "    # Split the URL by \"://\" and return the first part (protocol)\n",
    "    protocol = url.split(\"://\")[0]\n",
    "    return protocol\n",
    "\n",
    "# Test the function\n",
    "url = \"https://www.example.com\"\n",
    "print(extract_protocol(url))  # Output: https\n"
   ]
  },
  {
   "cell_type": "markdown",
   "id": "0f2d24b4",
   "metadata": {},
   "source": [
    "36. Find the frequency of each character in a string."
   ]
  },
  {
   "cell_type": "code",
   "execution_count": 135,
   "id": "a8fc24a4",
   "metadata": {},
   "outputs": [
    {
     "name": "stdout",
     "output_type": "stream",
     "text": [
      "frequency of each character is : {'p': 3, 'i': 1, 'n': 1, 'e': 2, 'a': 1, 'l': 1}\n"
     ]
    }
   ],
   "source": [
    "a = 'pineapple'\n",
    "b = {}         #creates a dictionary of newly occured elements\n",
    "\n",
    "for i in a:\n",
    "    if i in b:\n",
    "        b[i]+=1       #if element occurs again increases it value by 1\n",
    "    else:\n",
    "        b[i]=1\n",
    "print(\"frequency of each character is :\", b)        \n",
    "        "
   ]
  },
  {
   "cell_type": "markdown",
   "id": "9cf51a03",
   "metadata": {},
   "source": [
    "37. Remove all punctuation from a string."
   ]
  },
  {
   "cell_type": "code",
   "execution_count": 156,
   "id": "ed169e00",
   "metadata": {},
   "outputs": [
    {
     "data": {
      "text/plain": [
       "'ohh god '"
      ]
     },
     "execution_count": 156,
     "metadata": {},
     "output_type": "execute_result"
    }
   ],
   "source": [
    "a = 'ohh god !!'\n",
    "a.replace('!','')"
   ]
  },
  {
   "cell_type": "code",
   "execution_count": 164,
   "id": "4d8a8769",
   "metadata": {},
   "outputs": [
    {
     "name": "stdout",
     "output_type": "stream",
     "text": [
      "The string after removing punctuation is :  ohh god \n"
     ]
    }
   ],
   "source": [
    "a = 'ohh god !!'\n",
    "b = '''!@#$%^&*()_'''\n",
    "\n",
    "for i in a:\n",
    "    if i in b:\n",
    "        a = a.replace(i,\"\")\n",
    "print(\"The string after removing punctuation is : \", a)        "
   ]
  },
  {
   "cell_type": "markdown",
   "id": "506c908d",
   "metadata": {},
   "source": [
    "38. Check if a string contains only digits."
   ]
  },
  {
   "cell_type": "code",
   "execution_count": 168,
   "id": "8cfc4d50",
   "metadata": {},
   "outputs": [
    {
     "data": {
      "text/plain": [
       "True"
      ]
     },
     "execution_count": 168,
     "metadata": {},
     "output_type": "execute_result"
    }
   ],
   "source": [
    "a = '1234'\n",
    "a.isdigit()"
   ]
  },
  {
   "cell_type": "markdown",
   "id": "9165dbe9",
   "metadata": {},
   "source": [
    "39. Check if a string contains only alphabets."
   ]
  },
  {
   "cell_type": "code",
   "execution_count": 172,
   "id": "58b3ef60",
   "metadata": {},
   "outputs": [
    {
     "data": {
      "text/plain": [
       "True"
      ]
     },
     "execution_count": 172,
     "metadata": {},
     "output_type": "execute_result"
    }
   ],
   "source": [
    "a = 'apple'\n",
    "a.isalpha()"
   ]
  },
  {
   "cell_type": "markdown",
   "id": "6141d42c",
   "metadata": {},
   "source": [
    "40. Convert a string to a list of characters."
   ]
  },
  {
   "cell_type": "code",
   "execution_count": 178,
   "id": "75d39e08",
   "metadata": {},
   "outputs": [
    {
     "name": "stdout",
     "output_type": "stream",
     "text": [
      "['r', 'i', 'y', 'a']\n"
     ]
    }
   ],
   "source": [
    "a = 'riya'\n",
    "print([*a])"
   ]
  },
  {
   "cell_type": "markdown",
   "id": "c504c639",
   "metadata": {},
   "source": [
    "41. Check if two strings are anagrams."
   ]
  },
  {
   "cell_type": "code",
   "execution_count": 16,
   "id": "0ff3cb12",
   "metadata": {},
   "outputs": [
    {
     "name": "stdout",
     "output_type": "stream",
     "text": [
      "Enter a string : silent\n",
      "Enter a string : listen\n",
      "The strings are anagrams.\n"
     ]
    }
   ],
   "source": [
    "a = input('Enter a string : ')\n",
    "b = input('Enter a string : ')\n",
    "\n",
    "def check(a,b):\n",
    "    if(sorted(a)==sorted(b)):\n",
    "        print(\"The strings are anagrams.\")\n",
    "    else:\n",
    "        print(\"The strings aren't anagrams.\")\n",
    "        \n",
    "check(a,b)       \n"
   ]
  },
  {
   "cell_type": "markdown",
   "id": "5b0848f9",
   "metadata": {},
   "source": [
    "42. Encode a string using a Caesar cipher."
   ]
  },
  {
   "cell_type": "code",
   "execution_count": 4,
   "id": "93d8f654",
   "metadata": {},
   "outputs": [
    {
     "name": "stdout",
     "output_type": "stream",
     "text": [
      "String : HELLOWORLD\n",
      "shift : 3\n",
      "Cipher : KHOORZRUOG\n"
     ]
    }
   ],
   "source": [
    "def caesar_cipher(string,shift):\n",
    "    \n",
    "    result = \"\"\n",
    "    for i in range(len(string)):\n",
    "        char = string[i]\n",
    "        \n",
    "        if (char.isupper()):\n",
    "            result += chr((ord(char) + shift -65) % 26 + 65)\n",
    "            \n",
    "        else:\n",
    "            result += chr((ord(char) + shift - 97) % 26 + 97)\n",
    "    \n",
    "    return result\n",
    "\n",
    "string = 'HELLOWORLD'\n",
    "shift = 3\n",
    "print(\"String : \" + string)\n",
    "print(\"shift : \" + str(shift))\n",
    "print(\"Cipher : \" + caesar_cipher(string,shift))\n"
   ]
  },
  {
   "cell_type": "markdown",
   "id": "ea1d98bd",
   "metadata": {},
   "source": [
    "43. Decode a Caesar cipher encoded string."
   ]
  },
  {
   "cell_type": "code",
   "execution_count": 6,
   "id": "0259b2da",
   "metadata": {},
   "outputs": [
    {
     "name": "stdout",
     "output_type": "stream",
     "text": [
      "Hello World\n"
     ]
    }
   ],
   "source": [
    "import string\n",
    "\n",
    "def caesar_cipher_decode(encoded_text, shift):\n",
    "    # Define the alphabet\n",
    "    alphabet = string.ascii_lowercase\n",
    "    decoded_text = \"\"\n",
    "\n",
    "    # Loop through each character in the encoded text\n",
    "    for char in encoded_text:\n",
    "        if char.isalpha():  # Check if it's a letter\n",
    "            is_upper = char.isupper()\n",
    "            char = char.lower()  # Convert to lowercase for consistency\n",
    "            # Find the position of the character in the alphabet\n",
    "            index = (alphabet.index(char) - shift) % 26\n",
    "            # Append the shifted character to the result\n",
    "            decoded_char = alphabet[index]\n",
    "            # Convert back to uppercase if needed\n",
    "            if is_upper:\n",
    "                decoded_char = decoded_char.upper()\n",
    "            decoded_text += decoded_char\n",
    "        else:\n",
    "            # If it's not a letter, leave it unchanged\n",
    "            decoded_text += char\n",
    "\n",
    "    return decoded_text\n",
    "\n",
    "# Test the function\n",
    "encoded_text = \"Khoor Zruog\"  # Encoded with a shift of 3\n",
    "shift = 3\n",
    "print(caesar_cipher_decode(encoded_text, shift)) \n"
   ]
  },
  {
   "cell_type": "markdown",
   "id": "cd527354",
   "metadata": {},
   "source": [
    "44. Find the most frequent word in a string."
   ]
  },
  {
   "cell_type": "code",
   "execution_count": 8,
   "id": "fc3a3e41",
   "metadata": {},
   "outputs": [
    {
     "name": "stdout",
     "output_type": "stream",
     "text": [
      "('tokyo', 2)\n"
     ]
    }
   ],
   "source": [
    "from collections import Counter\n",
    "\n",
    "def most_frequent_word(text):\n",
    "    # Split the string into words and convert them to lowercase\n",
    "    words = text.lower().split()\n",
    "    \n",
    "    # Use Counter to count occurrences of each word\n",
    "    word_counts = Counter(words)\n",
    "    \n",
    "    # Find the word with the maximum count\n",
    "    most_common_word = word_counts.most_common(1)[0]\n",
    "    \n",
    "    return most_common_word\n",
    "\n",
    "# Test the function\n",
    "text = \"Tokyo is a very beautiful city. Tokyo being capital of Japan is maintained very well\"\n",
    "print(most_frequent_word(text)) \n"
   ]
  },
  {
   "cell_type": "code",
   "execution_count": null,
   "id": "0e75935b",
   "metadata": {},
   "outputs": [],
   "source": [
    "45. Find all unique words in a string."
   ]
  },
  {
   "cell_type": "code",
   "execution_count": 9,
   "id": "05539e75",
   "metadata": {},
   "outputs": [
    {
     "name": "stdout",
     "output_type": "stream",
     "text": [
      "{'is', 'this', 'test', 'simple', 'a'}\n"
     ]
    }
   ],
   "source": [
    "import string\n",
    "\n",
    "def unique_words(text):\n",
    "    # Remove punctuation from the text\n",
    "    translator = str.maketrans('', '', string.punctuation)\n",
    "    cleaned_text = text.translate(translator)\n",
    "    \n",
    "    # Convert to lowercase and split into words\n",
    "    words = cleaned_text.lower().split()\n",
    "    \n",
    "    # Use a set to keep unique words\n",
    "    unique_words_set = set(words)\n",
    "    \n",
    "    return unique_words_set\n",
    "\n",
    "# Test the function\n",
    "text = \"This is a test. This test is simple. Simple test!\"\n",
    "print(unique_words(text)) \n"
   ]
  },
  {
   "cell_type": "code",
   "execution_count": null,
   "id": "49630611",
   "metadata": {},
   "outputs": [],
   "source": [
    "46. Count the number of syllables in a string."
   ]
  },
  {
   "cell_type": "code",
   "execution_count": 10,
   "id": "26920c1e",
   "metadata": {},
   "outputs": [
    {
     "name": "stdout",
     "output_type": "stream",
     "text": [
      "Collecting syllapy\n",
      "  Downloading syllapy-0.7.2-py3-none-any.whl (24 kB)\n",
      "Installing collected packages: syllapy\n",
      "Successfully installed syllapy-0.7.2\n",
      "Note: you may need to restart the kernel to use updated packages.\n"
     ]
    }
   ],
   "source": [
    "pip install syllapy"
   ]
  },
  {
   "cell_type": "code",
   "execution_count": 11,
   "id": "a952e640",
   "metadata": {},
   "outputs": [
    {
     "name": "stdout",
     "output_type": "stream",
     "text": [
      "8\n"
     ]
    }
   ],
   "source": [
    "import syllapy\n",
    "\n",
    "def count_syllables(text):\n",
    "    # Split the text into words\n",
    "    words = text.split()\n",
    "    \n",
    "    # Count syllables for each word and sum them up\n",
    "    total_syllables = sum(syllapy.count(word) for word in words)\n",
    "    \n",
    "    return total_syllables\n",
    "\n",
    "# Test the function\n",
    "text = \"This is a simple example.\"\n",
    "print(count_syllables(text)) \n"
   ]
  },
  {
   "cell_type": "markdown",
   "id": "b9d39404",
   "metadata": {},
   "source": [
    "47. Check if a string contains any special characters."
   ]
  },
  {
   "cell_type": "code",
   "execution_count": 13,
   "id": "9e0fff79",
   "metadata": {},
   "outputs": [
    {
     "name": "stdout",
     "output_type": "stream",
     "text": [
      "True\n",
      "False\n"
     ]
    }
   ],
   "source": [
    "def contains_special_characters(text):\n",
    "    # Define a set of special characters\n",
    "    special_characters = set('!@#$%^&*()_+-=[]{},.<>?/|\\\\`~\"\\'')\n",
    "    \n",
    "    # Check if any character in the string is a special character\n",
    "    return any(char in special_characters for char in text)\n",
    "\n",
    "# Test the function\n",
    "text_with_special_chars = \"Hello, World! 123\"\n",
    "text_without_special_chars = \"Hello World 123\"\n",
    "\n",
    "print(contains_special_characters(text_with_special_chars))\n",
    "print(contains_special_characters(text_without_special_chars))"
   ]
  },
  {
   "cell_type": "markdown",
   "id": "bd20f03d",
   "metadata": {},
   "source": [
    "48. Remove the nth word from a string."
   ]
  },
  {
   "cell_type": "code",
   "execution_count": 14,
   "id": "13bf742a",
   "metadata": {},
   "outputs": [
    {
     "name": "stdout",
     "output_type": "stream",
     "text": [
      "This is a example string.\n"
     ]
    }
   ],
   "source": [
    "def remove_nth_word(text, n):\n",
    "    # Split the string into a list of words\n",
    "    words = text.split()\n",
    "\n",
    "    # Check if n is valid\n",
    "    if 0 <= n < len(words):\n",
    "        # Remove the nth word (index n)\n",
    "        del words[n]\n",
    "    \n",
    "    # Join the words back into a string\n",
    "    return ' '.join(words)\n",
    "\n",
    "# Test the function\n",
    "text = \"This is a simple example string.\"\n",
    "n = 3\n",
    "print(remove_nth_word(text, n))  \n"
   ]
  },
  {
   "cell_type": "code",
   "execution_count": null,
   "id": "3ffbc8b8",
   "metadata": {},
   "outputs": [],
   "source": []
  },
  {
   "cell_type": "code",
   "execution_count": null,
   "id": "8069c2e0",
   "metadata": {},
   "outputs": [],
   "source": []
  },
  {
   "cell_type": "code",
   "execution_count": null,
   "id": "4877449f",
   "metadata": {},
   "outputs": [],
   "source": []
  },
  {
   "cell_type": "markdown",
   "id": "ce1e6da6",
   "metadata": {},
   "source": [
    "## List based practice problem"
   ]
  },
  {
   "cell_type": "markdown",
   "id": "753e587b",
   "metadata": {},
   "source": [
    "1. Create a list with integers from 1 to 10."
   ]
  },
  {
   "cell_type": "code",
   "execution_count": 41,
   "id": "fc6fbd07",
   "metadata": {},
   "outputs": [
    {
     "name": "stdout",
     "output_type": "stream",
     "text": [
      "The list with integers is: [1, 2, 3, 4, 5, 6, 7, 8, 9, 10]\n"
     ]
    }
   ],
   "source": [
    "l = [1,2,3,4,5,6,7,8,9,10]\n",
    "print('The list with integers is:', l)\n"
   ]
  },
  {
   "cell_type": "markdown",
   "id": "b019906e",
   "metadata": {},
   "source": [
    "2. Find the length of a list without using the `len()` function."
   ]
  },
  {
   "cell_type": "code",
   "execution_count": 13,
   "id": "19059ab7",
   "metadata": {},
   "outputs": [
    {
     "name": "stdout",
     "output_type": "stream",
     "text": [
      "The length of a list is : 6\n"
     ]
    }
   ],
   "source": [
    "l = [1,2,3,4,'python',4.4]\n",
    "count = 0\n",
    "for i in l:\n",
    "    count += 1\n",
    "print('The length of a list is :', count)    "
   ]
  },
  {
   "cell_type": "markdown",
   "id": "ad759b0e",
   "metadata": {},
   "source": [
    "3. Append an element to the end of a list."
   ]
  },
  {
   "cell_type": "code",
   "execution_count": 40,
   "id": "cbe38813",
   "metadata": {},
   "outputs": [
    {
     "name": "stdout",
     "output_type": "stream",
     "text": [
      "The list after appending an element is: [1, 2, 3, 4, 'python', 4.4, 'riya']\n"
     ]
    }
   ],
   "source": [
    "l = [1,2,3,4,'python',4.4]\n",
    "l.append('riya')\n",
    "print('The list after appending an element is:', l)\n"
   ]
  },
  {
   "cell_type": "markdown",
   "id": "00afe271",
   "metadata": {},
   "source": [
    "4. Insert an element at a specific index in a list."
   ]
  },
  {
   "cell_type": "code",
   "execution_count": 39,
   "id": "c24dc4a8",
   "metadata": {},
   "outputs": [
    {
     "name": "stdout",
     "output_type": "stream",
     "text": [
      "The list after inserting an element is: [1, 2, 3, 4, 'riya', 'python', 4.4]\n"
     ]
    }
   ],
   "source": [
    "l = [1,2,3,4,'python',4.4]\n",
    "l.insert(4,'riya')\n",
    "print('The list after inserting an element is:', l)\n"
   ]
  },
  {
   "cell_type": "markdown",
   "id": "e2eada44",
   "metadata": {},
   "source": [
    "5. Remove an element from a list by its value."
   ]
  },
  {
   "cell_type": "code",
   "execution_count": 31,
   "id": "4255f310",
   "metadata": {},
   "outputs": [
    {
     "data": {
      "text/plain": [
       "[1, 2, 3, 4, 4.4]"
      ]
     },
     "execution_count": 31,
     "metadata": {},
     "output_type": "execute_result"
    }
   ],
   "source": [
    "l = [1,2,3,4,'python',4.4]\n",
    "l.remove('python')\n",
    "print('The list after removing an element is:', l)\n"
   ]
  },
  {
   "cell_type": "markdown",
   "id": "95226c0b",
   "metadata": {},
   "source": [
    "6. Remove an element from a list by its index."
   ]
  },
  {
   "cell_type": "code",
   "execution_count": 38,
   "id": "f4ac9f7a",
   "metadata": {},
   "outputs": [
    {
     "name": "stdout",
     "output_type": "stream",
     "text": [
      "The list after removing an element is: [1, 2, 4, 'python', 4.4]\n"
     ]
    }
   ],
   "source": [
    "l = [1,2,3,4,'python',4.4]\n",
    "del l[2]\n",
    "print('The list after removing an element is:', l)\n"
   ]
  },
  {
   "cell_type": "markdown",
   "id": "4d609ffa",
   "metadata": {},
   "source": [
    "7. Check if an element exists in a list."
   ]
  },
  {
   "cell_type": "code",
   "execution_count": 55,
   "id": "7f2c7d0b",
   "metadata": {},
   "outputs": [
    {
     "name": "stdout",
     "output_type": "stream",
     "text": [
      "exist\n"
     ]
    }
   ],
   "source": [
    "l = [1,2,3,4,'python',4.4]\n",
    "i = 'python'\n",
    "if i in l:\n",
    "    print('exist')\n",
    "else:\n",
    "    print('Not exist')"
   ]
  },
  {
   "cell_type": "markdown",
   "id": "649c75cc",
   "metadata": {},
   "source": [
    "8. Find the index of the first occurrence of an element in a list."
   ]
  },
  {
   "cell_type": "code",
   "execution_count": 64,
   "id": "0b5e2cb0",
   "metadata": {},
   "outputs": [
    {
     "name": "stdout",
     "output_type": "stream",
     "text": [
      "The index of the first occurence of an element is: 4\n"
     ]
    }
   ],
   "source": [
    "l = [1,2,3,4,'python',4.4,3]\n",
    "a = l.index('python')\n",
    "print('The index of the first occurence of an element is:', a  )\n"
   ]
  },
  {
   "cell_type": "markdown",
   "id": "8eafe820",
   "metadata": {},
   "source": [
    "9. Count the occurrences of an element in a list."
   ]
  },
  {
   "cell_type": "code",
   "execution_count": 66,
   "id": "ea8283e5",
   "metadata": {},
   "outputs": [
    {
     "name": "stdout",
     "output_type": "stream",
     "text": [
      "The Total occurrences of an element in a list is : 4\n"
     ]
    }
   ],
   "source": [
    "l = [1,2,3,4,'python',4.4,3,'riya',3,3.3,2,3]\n",
    "a = l.count(3)\n",
    "print('The Total occurrences of an element in a list is :', a)"
   ]
  },
  {
   "cell_type": "markdown",
   "id": "aa9e2257",
   "metadata": {},
   "source": [
    "10. Reverse the order of elements in a list."
   ]
  },
  {
   "cell_type": "code",
   "execution_count": 73,
   "id": "06de3474",
   "metadata": {},
   "outputs": [
    {
     "data": {
      "text/plain": [
       "[3, 2, 3, 'riya', 3, 4.4, 'python', 4, 3, 2, 1]"
      ]
     },
     "execution_count": 73,
     "metadata": {},
     "output_type": "execute_result"
    }
   ],
   "source": [
    "l = [1,2,3,4,'python',4.4,3,'riya',3,2,3]\n",
    "a = l[::-1]\n",
    "a"
   ]
  },
  {
   "cell_type": "code",
   "execution_count": 82,
   "id": "a28c5af4",
   "metadata": {},
   "outputs": [
    {
     "name": "stdout",
     "output_type": "stream",
     "text": [
      "The reverse order of elements in a list is : [3, 2, 3, 'riya', 3, 4.4, 'python', 4, 3, 2, 1]\n"
     ]
    }
   ],
   "source": [
    "l = [1,2,3,4,'python',4.4,3,'riya',3,2,3]\n",
    "l.reverse()\n",
    "print('The reverse order of elements in a list is :', l)"
   ]
  },
  {
   "cell_type": "markdown",
   "id": "a76efbfb",
   "metadata": {},
   "source": [
    "11. Sort a list in ascending order."
   ]
  },
  {
   "cell_type": "code",
   "execution_count": 99,
   "id": "391a76b2",
   "metadata": {},
   "outputs": [
    {
     "name": "stdout",
     "output_type": "stream",
     "text": [
      "The sorted list in ascending order is : [1, 2, 2, 3, 3, 3, 3, 4, 4.4, 7, 9]\n"
     ]
    }
   ],
   "source": [
    "l = [1,2,3,4,4.4,3,3,2,3,7,9]\n",
    "l.sort()\n",
    "print('The sorted list in ascending order is :', l)"
   ]
  },
  {
   "cell_type": "markdown",
   "id": "21595e6b",
   "metadata": {},
   "source": [
    "12. Sort a list in descending order."
   ]
  },
  {
   "cell_type": "code",
   "execution_count": 100,
   "id": "7196356d",
   "metadata": {},
   "outputs": [
    {
     "name": "stdout",
     "output_type": "stream",
     "text": [
      "The sorted list in descending order is : [9, 7, 4.4, 4, 3, 3, 3, 3, 2, 2, 1]\n"
     ]
    }
   ],
   "source": [
    "l = [1,2,3,4,4.4,3,3,2,3,7,9]\n",
    "l.sort()\n",
    "l.reverse()\n",
    "print('The sorted list in descending order is :', l)\n"
   ]
  },
  {
   "cell_type": "code",
   "execution_count": 104,
   "id": "3e0e3132",
   "metadata": {},
   "outputs": [
    {
     "name": "stdout",
     "output_type": "stream",
     "text": [
      "The sorted list in descending order is : [9, 7, 4.4, 4, 3, 3, 3, 3, 2, 2, 1]\n"
     ]
    }
   ],
   "source": [
    "l = [1,2,3,4,4.4,3,3,2,3,7,9]\n",
    "a = sorted(l, reverse=True)\n",
    "print('The sorted list in descending order is :', a)\n"
   ]
  },
  {
   "cell_type": "markdown",
   "id": "6a8a75df",
   "metadata": {},
   "source": [
    "13. Create a list of even numbers from 1 to 20."
   ]
  },
  {
   "cell_type": "code",
   "execution_count": 38,
   "id": "719550e1",
   "metadata": {},
   "outputs": [
    {
     "data": {
      "text/plain": [
       "[2, 4, 6, 8, 10, 12, 14, 16, 18, 20]"
      ]
     },
     "execution_count": 38,
     "metadata": {},
     "output_type": "execute_result"
    }
   ],
   "source": [
    "[i for i in range(1,21) if i%2==0]"
   ]
  },
  {
   "cell_type": "code",
   "execution_count": 1,
   "id": "57a440ef",
   "metadata": {},
   "outputs": [
    {
     "name": "stdout",
     "output_type": "stream",
     "text": [
      "2\n",
      "4\n",
      "6\n",
      "8\n",
      "10\n",
      "12\n",
      "14\n",
      "16\n",
      "18\n",
      "20\n"
     ]
    }
   ],
   "source": [
    "l = [1,2,3,4,5,6,7,8,9,10,11,12,13,14,15,16,17,18,19,20]\n",
    "for i in l:\n",
    "    if i%2 == 0:\n",
    "        print(i)"
   ]
  },
  {
   "cell_type": "code",
   "execution_count": 40,
   "id": "57014f94",
   "metadata": {},
   "outputs": [],
   "source": [
    "def list_even_no(a):\n",
    "    for i in range(1,21):\n",
    "        if i%2 == 0:\n",
    "            print(i)"
   ]
  },
  {
   "cell_type": "code",
   "execution_count": 35,
   "id": "ea809633",
   "metadata": {
    "scrolled": true
   },
   "outputs": [
    {
     "name": "stdout",
     "output_type": "stream",
     "text": [
      "2\n",
      "4\n",
      "6\n",
      "8\n",
      "10\n",
      "12\n",
      "14\n",
      "16\n",
      "18\n",
      "20\n"
     ]
    }
   ],
   "source": [
    "list_even_no(a)"
   ]
  },
  {
   "cell_type": "markdown",
   "id": "b9a85205",
   "metadata": {},
   "source": [
    "14. Create a list of even numbers from 1 to 20."
   ]
  },
  {
   "cell_type": "code",
   "execution_count": 42,
   "id": "cb94eabe",
   "metadata": {},
   "outputs": [
    {
     "data": {
      "text/plain": [
       "[1, 3, 5, 7, 9, 11, 13, 15, 17, 19]"
      ]
     },
     "execution_count": 42,
     "metadata": {},
     "output_type": "execute_result"
    }
   ],
   "source": [
    "[i for i in range(1,21) if i%2 == 1]"
   ]
  },
  {
   "cell_type": "markdown",
   "id": "70e746fb",
   "metadata": {},
   "source": [
    "15. Find the sum of all elements in a list."
   ]
  },
  {
   "cell_type": "code",
   "execution_count": 56,
   "id": "df9f1023",
   "metadata": {},
   "outputs": [
    {
     "name": "stdout",
     "output_type": "stream",
     "text": [
      "The sum of al elements in a list is 13\n"
     ]
    }
   ],
   "source": [
    "l = [4,5,3,1]\n",
    "s = sum(l)\n",
    "print(f\"The sum of al elements in a list is {s}\")"
   ]
  },
  {
   "cell_type": "markdown",
   "id": "150b4277",
   "metadata": {},
   "source": [
    "16. Find the maximum value in a list."
   ]
  },
  {
   "cell_type": "code",
   "execution_count": 59,
   "id": "3858abe6",
   "metadata": {},
   "outputs": [
    {
     "name": "stdout",
     "output_type": "stream",
     "text": [
      "The maximum value in alist is 33\n"
     ]
    }
   ],
   "source": [
    "l = [4,5,3,1,10,15,33,2,6]\n",
    "print(f\"The maximum value in alist is {max(l)}\")\n"
   ]
  },
  {
   "cell_type": "markdown",
   "id": "df413765",
   "metadata": {},
   "source": [
    "17. Find the minimum value in a list."
   ]
  },
  {
   "cell_type": "code",
   "execution_count": 62,
   "id": "6493b621",
   "metadata": {},
   "outputs": [
    {
     "name": "stdout",
     "output_type": "stream",
     "text": [
      "The minimum value in a list is 1\n"
     ]
    }
   ],
   "source": [
    "l = [4,5,3,1,10,15,33,2,6]\n",
    "print(f\"The minimum value in a list is {min(l)}\")"
   ]
  },
  {
   "cell_type": "markdown",
   "id": "52865eb6",
   "metadata": {},
   "source": [
    "18. Create a list of squares of numbers from 1 to 10."
   ]
  },
  {
   "cell_type": "code",
   "execution_count": 67,
   "id": "ba6a8b17",
   "metadata": {},
   "outputs": [
    {
     "name": "stdout",
     "output_type": "stream",
     "text": [
      "The list of squares from 1 to 10 is [1, 4, 9, 16, 25, 36, 49, 64, 81, 100]\n"
     ]
    }
   ],
   "source": [
    "sqr_list = [i*i for i in range(1,11)]\n",
    "print(f\"The list of squares from 1 to 10 is {sqr_list}\")"
   ]
  },
  {
   "cell_type": "markdown",
   "id": "d10c1b6b",
   "metadata": {},
   "source": [
    "19. Create a list of random numbers.\n"
   ]
  },
  {
   "cell_type": "code",
   "execution_count": 13,
   "id": "6062fa1b",
   "metadata": {},
   "outputs": [
    {
     "name": "stdout",
     "output_type": "stream",
     "text": [
      "Random number list is :  [24, 9, 43, 22, 47, 29, 49, 21, 12, 33]\n"
     ]
    }
   ],
   "source": [
    "import random\n",
    " \n",
    "random_list = random.sample(range(1, 50), 10)         #sample() is a method that returns list which has two arguments Sequence and k=size of list \n",
    "print (\"Random number list is : \", random_list)"
   ]
  },
  {
   "cell_type": "markdown",
   "id": "98e9139b",
   "metadata": {},
   "source": [
    "20. Remove duplicates from a list."
   ]
  },
  {
   "cell_type": "code",
   "execution_count": 30,
   "id": "9aa9e940",
   "metadata": {},
   "outputs": [
    {
     "name": "stdout",
     "output_type": "stream",
     "text": [
      "The list after removing duplicates is : [2, 4, 5, 6, 7, 8]\n"
     ]
    }
   ],
   "source": [
    "lst = [2,5,7,2,8,6,7,4]\n",
    "print(f\"The list after removing duplicates is : {list(set(lst))}\")"
   ]
  },
  {
   "cell_type": "code",
   "execution_count": 32,
   "id": "7a2d7ca1",
   "metadata": {},
   "outputs": [
    {
     "name": "stdout",
     "output_type": "stream",
     "text": [
      "[2, 5, 7, 8, 6, 4]\n"
     ]
    }
   ],
   "source": [
    "lst_dup = [2,5,7,2,8,6,7,4]\n",
    "lst_new = []\n",
    "for i in lst_dup:\n",
    "    if i not in lst_new:\n",
    "        lst_new.append(i)\n",
    "print(lst_new)\n"
   ]
  },
  {
   "cell_type": "markdown",
   "id": "e9919437",
   "metadata": {},
   "source": [
    "21. Find the common elements between two lists."
   ]
  },
  {
   "cell_type": "code",
   "execution_count": 18,
   "id": "10d7a532",
   "metadata": {},
   "outputs": [
    {
     "name": "stdout",
     "output_type": "stream",
     "text": [
      "The common elements betweeen two lists are : [2, 4, 6, 8, 1, 3, 9, 15, 19]\n"
     ]
    }
   ],
   "source": [
    "lst_1 = [2,4,6,8,1,3,5,9,7,16,10,15,12,19]\n",
    "lst_2 = [1,3,9,6,2,4,8,0,13,15,19]\n",
    "lst_3 = []\n",
    "\n",
    "for i in lst_1:\n",
    "    if i in lst_2:\n",
    "        lst_3.append(i)\n",
    "        \n",
    "print(f\"The common elements betweeen two lists are : {lst_3}\")"
   ]
  },
  {
   "cell_type": "markdown",
   "id": "2baf5f45",
   "metadata": {},
   "source": [
    "22. Find the difference between two lists."
   ]
  },
  {
   "cell_type": "code",
   "execution_count": 36,
   "id": "bbed3ef2",
   "metadata": {},
   "outputs": [
    {
     "data": {
      "text/plain": [
       "[5, 7, 16]"
      ]
     },
     "execution_count": 36,
     "metadata": {},
     "output_type": "execute_result"
    }
   ],
   "source": [
    "lst_1 = [2,4,6,8,1,3,5,9,7,16]\n",
    "lst_2 = [1,3,9,6,2,4,8,0,13,15]\n",
    "lst_3 = []\n",
    "\n",
    "for i in lst_1:\n",
    "    if i not in lst_2:\n",
    "        lst_3.append(i)\n",
    "        \n",
    "lst_3\n",
    "    \n",
    "        \n"
   ]
  },
  {
   "cell_type": "markdown",
   "id": "82486872",
   "metadata": {},
   "source": [
    "23. Merge two lists."
   ]
  },
  {
   "cell_type": "code",
   "execution_count": 42,
   "id": "39930e1f",
   "metadata": {},
   "outputs": [
    {
     "name": "stdout",
     "output_type": "stream",
     "text": [
      "THe two list after merging are : [1, 2, 3, 4, 5, 6, 7, 8]\n"
     ]
    }
   ],
   "source": [
    "a = [1,2,3,4]\n",
    "b = [5,6,7,8]\n",
    "\n",
    "c = a+b\n",
    "print(f\"THe two list after merging are : {c}\")"
   ]
  },
  {
   "cell_type": "markdown",
   "id": "c3661f2a",
   "metadata": {},
   "source": [
    "24. Multiply all elements in a list by 2."
   ]
  },
  {
   "cell_type": "code",
   "execution_count": 51,
   "id": "4886b243",
   "metadata": {},
   "outputs": [
    {
     "name": "stdout",
     "output_type": "stream",
     "text": [
      "16\n",
      "10\n",
      "4\n",
      "18\n",
      "8\n"
     ]
    }
   ],
   "source": [
    "a = [8,5,2,9,0,4]\n",
    "\n",
    "for i in a:\n",
    "    if i!=0:\n",
    "        print(i*2)\n",
    "    "
   ]
  },
  {
   "cell_type": "code",
   "execution_count": null,
   "id": "087ec079",
   "metadata": {},
   "outputs": [],
   "source": [
    "a = [8,5,2,9,0,4]"
   ]
  },
  {
   "cell_type": "markdown",
   "id": "b89d7d13",
   "metadata": {},
   "source": [
    " 25. Filter out all even numbers from a list."
   ]
  },
  {
   "cell_type": "code",
   "execution_count": 5,
   "id": "1229a9bf",
   "metadata": {
    "scrolled": true
   },
   "outputs": [
    {
     "data": {
      "text/plain": [
       "[2, 4, 6, 8, 10, 14, 18]"
      ]
     },
     "execution_count": 5,
     "metadata": {},
     "output_type": "execute_result"
    }
   ],
   "source": [
    "a = [1,2,3,4,5,6,7,8,9,10,14,17,18]\n",
    "b = []\n",
    "for i in a:\n",
    "    if i%2 == 0:\n",
    "        b.append(i)\n",
    "b\n",
    "        "
   ]
  },
  {
   "cell_type": "markdown",
   "id": "4d4402ad",
   "metadata": {},
   "source": [
    "26. Convert a list of strings to a list of integers."
   ]
  },
  {
   "cell_type": "code",
   "execution_count": 11,
   "id": "aa122ae0",
   "metadata": {},
   "outputs": [
    {
     "name": "stdout",
     "output_type": "stream",
     "text": [
      "The list of strings after converting it to integer is [1, 2, 3, 4, 5]\n"
     ]
    }
   ],
   "source": [
    "a = ['1','2','3','4','5']\n",
    "b = [int(i) for i in a]               #list comphrehension\n",
    "print(f\"The list of strings after converting it to integer is {b}\")\n",
    "\n",
    "\n",
    "\n",
    "\n"
   ]
  },
  {
   "cell_type": "markdown",
   "id": "114082a8",
   "metadata": {},
   "source": [
    "27. Convert a list of integers to a list of strings."
   ]
  },
  {
   "cell_type": "code",
   "execution_count": 24,
   "id": "42092ee0",
   "metadata": {},
   "outputs": [
    {
     "name": "stdout",
     "output_type": "stream",
     "text": [
      "The list of integers after converting it to string is ['1', '2', '3', '4', '5', '6', '7']\n"
     ]
    }
   ],
   "source": [
    "a = [1,2,3,4,5,6,7]\n",
    "b = [str(i) for i in a]\n",
    "print(f\"The list of integers after converting it to string is {b}\")"
   ]
  },
  {
   "cell_type": "markdown",
   "id": "9dce9d45",
   "metadata": {},
   "source": [
    "28. Flatten a nested list."
   ]
  },
  {
   "cell_type": "code",
   "execution_count": 9,
   "id": "75d5b6ec",
   "metadata": {},
   "outputs": [
    {
     "name": "stdout",
     "output_type": "stream",
     "text": [
      "The original list is [1, 2, 3, 4, [5, 6, 7, 8], 9]\n",
      "The flatten list is [1, 2, 3, 4, 5, 6, 7, 8, 9]\n"
     ]
    }
   ],
   "source": [
    "def flatten_list(l):\n",
    "    b = []\n",
    "    for i in l:\n",
    "        if type(i)==list:\n",
    "            for j in i:\n",
    "                b.append(j)\n",
    "        else:\n",
    "            b.append(i)\n",
    "    return(b)\n",
    "\n",
    "a = [1,2,3,4,[5,6,7,8],9]\n",
    "print(f\"The original list is {a}\")\n",
    "print(f\"The flatten list is {flatten_list(a)}\")\n",
    "\n",
    "                "
   ]
  },
  {
   "cell_type": "markdown",
   "id": "180e4fe3",
   "metadata": {},
   "source": [
    "29. Create a list of the first 10 Fibonacci numbers."
   ]
  },
  {
   "cell_type": "code",
   "execution_count": 14,
   "id": "3f437c38",
   "metadata": {},
   "outputs": [
    {
     "data": {
      "text/plain": [
       "21"
      ]
     },
     "execution_count": 14,
     "metadata": {},
     "output_type": "execute_result"
    }
   ],
   "source": [
    "def fib(l):\n",
    "    if l <= 1:\n",
    "        return l\n",
    "    else:\n",
    "        return fib(l-2) + fib(l-1)\n",
    "    \n",
    "fibb(8)\n",
    "        "
   ]
  },
  {
   "cell_type": "code",
   "execution_count": 15,
   "id": "e52edd31",
   "metadata": {},
   "outputs": [],
   "source": [
    "def fib(n):\n",
    "    if n == 0:\n",
    "        return[0]\n",
    "    elif n == 1:\n",
    "        return[0,1]\n",
    "    else:\n",
    "        lst = fib(n-1)\n",
    "        lst.append(lst[-1] + lst[-2])\n",
    "        return lst     "
   ]
  },
  {
   "cell_type": "code",
   "execution_count": 16,
   "id": "d5b6aa1b",
   "metadata": {},
   "outputs": [
    {
     "data": {
      "text/plain": [
       "[0, 1, 1, 2, 3, 5, 8, 13, 21]"
      ]
     },
     "execution_count": 16,
     "metadata": {},
     "output_type": "execute_result"
    }
   ],
   "source": [
    "fib(8)"
   ]
  },
  {
   "cell_type": "markdown",
   "id": "c32dd5b8",
   "metadata": {},
   "source": [
    "30. Check if a list is sorted."
   ]
  },
  {
   "cell_type": "code",
   "execution_count": 7,
   "id": "40e42ee9",
   "metadata": {},
   "outputs": [
    {
     "name": "stdout",
     "output_type": "stream",
     "text": [
      "List is sorted\n"
     ]
    }
   ],
   "source": [
    "a = [1,2,3,4,5,6]\n",
    "flag = 0\n",
    "if (a == sorted(a)):\n",
    "    flag = 1\n",
    "    \n",
    "if (flag):\n",
    "    print(\"List is sorted\")\n",
    "else:\n",
    "    print(\"List is not sorted\")"
   ]
  },
  {
   "cell_type": "markdown",
   "id": "1f75bb3b",
   "metadata": {},
   "source": [
    "31. Rotate a list to the left by `n` positions."
   ]
  },
  {
   "cell_type": "code",
   "execution_count": 17,
   "id": "70354db5",
   "metadata": {},
   "outputs": [
    {
     "name": "stdout",
     "output_type": "stream",
     "text": [
      "Original list is : [1, 2, 3, 4, 5, 6]\n",
      "list after left rotate by 3 is : [4, 5, 6, 1, 2, 3]\n"
     ]
    }
   ],
   "source": [
    "list = [1,2,3,4,5,6]\n",
    "print(\"Original list is : \" + str(list))\n",
    "\n",
    "list = list[3:] + list[:3]\n",
    "print(\"list after left rotate by 3 is : \" + str(list))\n",
    "\n"
   ]
  },
  {
   "cell_type": "markdown",
   "id": "93739127",
   "metadata": {},
   "source": [
    "32. Rotate a list to the right by `n` positions."
   ]
  },
  {
   "cell_type": "code",
   "execution_count": 1,
   "id": "faebff4e",
   "metadata": {},
   "outputs": [
    {
     "name": "stdout",
     "output_type": "stream",
     "text": [
      "[4, 5, 1, 2, 3]\n"
     ]
    }
   ],
   "source": [
    "def rotate_right(lst, n):\n",
    "    # Ensure n is within the bounds of the list length\n",
    "    n = n % len(lst)\n",
    "    return lst[-n:] + lst[:-n]\n",
    "\n",
    "# Example usage\n",
    "lst = [1, 2, 3, 4, 5]\n",
    "n = 2\n",
    "rotated_list = rotate_right(lst, n)\n",
    "print(rotated_list)"
   ]
  },
  {
   "cell_type": "markdown",
   "id": "5b78080b",
   "metadata": {},
   "source": [
    "33. Create a list of prime numbers up to 50."
   ]
  },
  {
   "cell_type": "code",
   "execution_count": 2,
   "id": "f5e1e4cb",
   "metadata": {},
   "outputs": [
    {
     "name": "stdout",
     "output_type": "stream",
     "text": [
      "[2, 3, 5, 7, 11, 13, 17, 19, 23, 29, 31, 37, 41, 43, 47]\n"
     ]
    }
   ],
   "source": [
    "def is_prime(n):\n",
    "    if n < 2:\n",
    "        return False\n",
    "    for i in range(2, int(n**0.5) + 1):\n",
    "        if n % i == 0:\n",
    "            return False\n",
    "    return True\n",
    "\n",
    "prime_numbers = [n for n in range(2, 51) if is_prime(n)]\n",
    "print(prime_numbers)\n"
   ]
  },
  {
   "cell_type": "markdown",
   "id": "f44713a8",
   "metadata": {},
   "source": [
    "34. Split a list into chunks of size `n`."
   ]
  },
  {
   "cell_type": "code",
   "execution_count": 3,
   "id": "f26b3e94",
   "metadata": {},
   "outputs": [
    {
     "name": "stdout",
     "output_type": "stream",
     "text": [
      "[[1, 2, 3], [4, 5, 6], [7, 8, 9]]\n"
     ]
    }
   ],
   "source": [
    "def split_into_chunks(lst, n):\n",
    "    # Use list slicing to create chunks of size n\n",
    "    return [lst[i:i+n] for i in range(0, len(lst), n)]\n",
    "\n",
    "# Example usage\n",
    "lst = [1, 2, 3, 4, 5, 6, 7, 8, 9]\n",
    "chunk_size = 3\n",
    "chunks = split_into_chunks(lst, chunk_size)\n",
    "print(chunks)\n"
   ]
  },
  {
   "cell_type": "markdown",
   "id": "160b1bea",
   "metadata": {},
   "source": [
    "35. Find the second largest number in a list."
   ]
  },
  {
   "cell_type": "code",
   "execution_count": 4,
   "id": "7bc695fd",
   "metadata": {},
   "outputs": [
    {
     "name": "stdout",
     "output_type": "stream",
     "text": [
      "45\n"
     ]
    }
   ],
   "source": [
    "def second_largest(lst):\n",
    "    # Remove duplicates by converting the list to a set, then back to a sorted list\n",
    "    unique_lst = list(set(lst))\n",
    "    # Sort the list in descending order\n",
    "    unique_lst.sort(reverse=True)\n",
    "    # Return the second element (second largest)\n",
    "    return unique_lst[1] if len(unique_lst) > 1 else None\n",
    "\n",
    "# Example usage\n",
    "lst = [10, 20, 4, 45, 99, 45]\n",
    "second_largest_num = second_largest(lst)\n",
    "print(second_largest_num)\n"
   ]
  },
  {
   "cell_type": "markdown",
   "id": "f0c2086d",
   "metadata": {},
   "source": [
    "36. Replace every element in a list with its square."
   ]
  },
  {
   "cell_type": "code",
   "execution_count": 5,
   "id": "c6eb54f6",
   "metadata": {},
   "outputs": [
    {
     "name": "stdout",
     "output_type": "stream",
     "text": [
      "[1, 4, 9, 16, 25]\n"
     ]
    }
   ],
   "source": [
    "def square_elements(lst):\n",
    "    return [x**2 for x in lst]\n",
    "\n",
    "# Example usage\n",
    "lst = [1, 2, 3, 4, 5]\n",
    "squared_lst = square_elements(lst)\n",
    "print(squared_lst)\n"
   ]
  },
  {
   "cell_type": "markdown",
   "id": "15fcf30f",
   "metadata": {},
   "source": [
    "37. Convert a list to a dictionary where list elements become keys and their indices become values."
   ]
  },
  {
   "cell_type": "code",
   "execution_count": 6,
   "id": "516d5591",
   "metadata": {},
   "outputs": [
    {
     "name": "stdout",
     "output_type": "stream",
     "text": [
      "{'a': 0, 'b': 1, 'c': 2, 'd': 3}\n"
     ]
    }
   ],
   "source": [
    "def list_to_dict(lst):\n",
    "    return {element: index for index, element in enumerate(lst)}\n",
    "\n",
    "# Example usage\n",
    "lst = ['a', 'b', 'c', 'd']\n",
    "converted_dict = list_to_dict(lst)\n",
    "print(converted_dict)\n"
   ]
  },
  {
   "cell_type": "markdown",
   "id": "bfb23080",
   "metadata": {},
   "source": [
    "38. Shuffle the elements of a list randomly."
   ]
  },
  {
   "cell_type": "code",
   "execution_count": 7,
   "id": "015eaca6",
   "metadata": {},
   "outputs": [
    {
     "name": "stdout",
     "output_type": "stream",
     "text": [
      "[5, 2, 1, 4, 3]\n"
     ]
    }
   ],
   "source": [
    "import random\n",
    "\n",
    "def shuffle_list(lst):\n",
    "    random.shuffle(lst)\n",
    "    return lst\n",
    "\n",
    "# Example usage\n",
    "lst = [1, 2, 3, 4, 5]\n",
    "shuffled_lst = shuffle_list(lst)\n",
    "print(shuffled_lst)\n"
   ]
  },
  {
   "cell_type": "markdown",
   "id": "3d51df80",
   "metadata": {},
   "source": [
    "39. Create a list of the first 10 factorial numbers."
   ]
  },
  {
   "cell_type": "code",
   "execution_count": 8,
   "id": "4258efbe",
   "metadata": {},
   "outputs": [
    {
     "name": "stdout",
     "output_type": "stream",
     "text": [
      "[1, 2, 6, 24, 120, 720, 5040, 40320, 362880, 3628800]\n"
     ]
    }
   ],
   "source": [
    "import math\n",
    "\n",
    "def first_10_factorials():\n",
    "    return [math.factorial(i) for i in range(1, 11)]\n",
    "\n",
    "# Example usage\n",
    "factorials = first_10_factorials()\n",
    "print(factorials)\n"
   ]
  },
  {
   "cell_type": "markdown",
   "id": "ed7d90c3",
   "metadata": {},
   "source": [
    "40. Check if two lists have at least one element in common."
   ]
  },
  {
   "cell_type": "code",
   "execution_count": 9,
   "id": "46d0694a",
   "metadata": {},
   "outputs": [
    {
     "name": "stdout",
     "output_type": "stream",
     "text": [
      "True\n"
     ]
    }
   ],
   "source": [
    "def have_common_element(lst1, lst2):\n",
    "    return bool(set(lst1) & set(lst2))\n",
    "\n",
    "# Example usage\n",
    "lst1 = [1, 2, 3, 4]\n",
    "lst2 = [3, 5, 6, 7]\n",
    "result = have_common_element(lst1, lst2)\n",
    "print(result)\n"
   ]
  },
  {
   "cell_type": "markdown",
   "id": "fdfc6bea",
   "metadata": {},
   "source": [
    "41. Remove all elements from a list."
   ]
  },
  {
   "cell_type": "code",
   "execution_count": 10,
   "id": "06dc5723",
   "metadata": {},
   "outputs": [
    {
     "name": "stdout",
     "output_type": "stream",
     "text": [
      "[]\n"
     ]
    }
   ],
   "source": [
    "def clear_list(lst):\n",
    "    lst.clear()\n",
    "\n",
    "# Example usage\n",
    "lst = [1, 2, 3, 4, 5]\n",
    "clear_list(lst)\n",
    "print(lst)\n",
    "\n"
   ]
  },
  {
   "cell_type": "markdown",
   "id": "8b020bcf",
   "metadata": {},
   "source": [
    "42. Replace negative numbers in a list with 0."
   ]
  },
  {
   "cell_type": "code",
   "execution_count": 11,
   "id": "2081da0a",
   "metadata": {},
   "outputs": [
    {
     "name": "stdout",
     "output_type": "stream",
     "text": [
      "[1, 0, 3, 0, 5]\n"
     ]
    }
   ],
   "source": [
    "def replace_negatives(lst):\n",
    "    return [0 if x < 0 else x for x in lst]\n",
    "\n",
    "# Example usage\n",
    "lst = [1, -2, 3, -4, 5]\n",
    "replaced_lst = replace_negatives(lst)\n",
    "print(replaced_lst)\n"
   ]
  },
  {
   "cell_type": "markdown",
   "id": "733499fb",
   "metadata": {},
   "source": [
    "43. Convert a string into a list of words."
   ]
  },
  {
   "cell_type": "code",
   "execution_count": 12,
   "id": "7c06ec3f",
   "metadata": {},
   "outputs": [
    {
     "name": "stdout",
     "output_type": "stream",
     "text": [
      "['Hello', 'world', 'this', 'is', 'a', 'test']\n"
     ]
    }
   ],
   "source": [
    "def string_to_list_of_words(s):\n",
    "    return s.split()\n",
    "\n",
    "# Example usage\n",
    "s = \"Hello world this is a test\"\n",
    "words_list = string_to_list_of_words(s)\n",
    "print(words_list)\n"
   ]
  },
  {
   "cell_type": "markdown",
   "id": "34b842ae",
   "metadata": {},
   "source": [
    "44. Convert a list of words into a string."
   ]
  },
  {
   "cell_type": "code",
   "execution_count": 13,
   "id": "45e72780",
   "metadata": {},
   "outputs": [
    {
     "name": "stdout",
     "output_type": "stream",
     "text": [
      "Hello world this is a test\n"
     ]
    }
   ],
   "source": [
    "def list_to_string(words_list):\n",
    "    return ' '.join(words_list)\n",
    "\n",
    "# Example usage\n",
    "words_list = ['Hello', 'world', 'this', 'is', 'a', 'test']\n",
    "resulting_string = list_to_string(words_list)\n",
    "print(resulting_string)\n"
   ]
  },
  {
   "cell_type": "markdown",
   "id": "742dbc9d",
   "metadata": {},
   "source": [
    "45. Create a list of the first `n` powers of 2."
   ]
  },
  {
   "cell_type": "code",
   "execution_count": 14,
   "id": "57c51994",
   "metadata": {},
   "outputs": [
    {
     "name": "stdout",
     "output_type": "stream",
     "text": [
      "[1, 2, 4, 8, 16]\n"
     ]
    }
   ],
   "source": [
    "def powers_of_2(n):\n",
    "    return [2**i for i in range(n)]\n",
    "\n",
    "# Example usage\n",
    "n = 5\n",
    "powers_list = powers_of_2(n)\n",
    "print(powers_list)\n"
   ]
  },
  {
   "cell_type": "markdown",
   "id": "e638a046",
   "metadata": {},
   "source": [
    "46. Find the longest string in a list of strings."
   ]
  },
  {
   "cell_type": "code",
   "execution_count": 15,
   "id": "a9ff7530",
   "metadata": {},
   "outputs": [
    {
     "name": "stdout",
     "output_type": "stream",
     "text": [
      "blueberry\n"
     ]
    }
   ],
   "source": [
    "def longest_string(strings_list):\n",
    "    return max(strings_list, key=len)\n",
    "\n",
    "# Example usage\n",
    "strings_list = [\"apple\", \"banana\", \"cherry\", \"blueberry\"]\n",
    "longest_str = longest_string(strings_list)\n",
    "print(longest_str)\n"
   ]
  },
  {
   "cell_type": "markdown",
   "id": "c44dba1b",
   "metadata": {},
   "source": [
    "47. Find the shortest string in a list of strings."
   ]
  },
  {
   "cell_type": "code",
   "execution_count": 16,
   "id": "f9e5ab01",
   "metadata": {},
   "outputs": [
    {
     "name": "stdout",
     "output_type": "stream",
     "text": [
      "fig\n"
     ]
    }
   ],
   "source": [
    "def shortest_string(strings_list):\n",
    "    return min(strings_list, key=len)\n",
    "\n",
    "# Example usage\n",
    "strings_list = [\"apple\", \"banana\", \"cherry\", \"fig\"]\n",
    "shortest_str = shortest_string(strings_list)\n",
    "print(shortest_str)\n"
   ]
  },
  {
   "cell_type": "markdown",
   "id": "91f29e10",
   "metadata": {},
   "source": [
    "48. Create a list of the first `n` triangular numbers."
   ]
  },
  {
   "cell_type": "code",
   "execution_count": 17,
   "id": "a61cf5ac",
   "metadata": {},
   "outputs": [
    {
     "name": "stdout",
     "output_type": "stream",
     "text": [
      "[1, 3, 6, 10, 15]\n"
     ]
    }
   ],
   "source": [
    "def triangular_numbers(n):\n",
    "    return [i * (i + 1) // 2 for i in range(1, n + 1)]\n",
    "\n",
    "# Example usage\n",
    "n = 5\n",
    "triangular_lst = triangular_numbers(n)\n",
    "print(triangular_lst)\n"
   ]
  },
  {
   "cell_type": "markdown",
   "id": "f535bc5a",
   "metadata": {},
   "source": [
    "49. Check if a list contains another list as a subsequence."
   ]
  },
  {
   "cell_type": "code",
   "execution_count": 18,
   "id": "9ae0549d",
   "metadata": {},
   "outputs": [
    {
     "name": "stdout",
     "output_type": "stream",
     "text": [
      "True\n"
     ]
    }
   ],
   "source": [
    "def is_subsequence(main_list, sub_list):\n",
    "    iter_main = iter(main_list)\n",
    "    return all(elem in iter_main for elem in sub_list)\n",
    "\n",
    "# Example usage\n",
    "main_list = [1, 2, 3, 4, 5, 6]\n",
    "sub_list = [2, 4, 6]\n",
    "result = is_subsequence(main_list, sub_list)\n",
    "print(result)\n"
   ]
  },
  {
   "cell_type": "markdown",
   "id": "c3d70182",
   "metadata": {},
   "source": [
    "50. Swap two elements in a list by their indices."
   ]
  },
  {
   "cell_type": "code",
   "execution_count": 19,
   "id": "9a467f17",
   "metadata": {},
   "outputs": [
    {
     "name": "stdout",
     "output_type": "stream",
     "text": [
      "[10, 40, 30, 20, 50]\n"
     ]
    }
   ],
   "source": [
    "def swap_elements(lst, index1, index2):\n",
    "    # Ensure the indices are within the bounds of the list\n",
    "    if 0 <= index1 < len(lst) and 0 <= index2 < len(lst):\n",
    "        lst[index1], lst[index2] = lst[index2], lst[index1]\n",
    "    else:\n",
    "        raise IndexError(\"Index out of range\")\n",
    "\n",
    "# Example usage\n",
    "lst = [10, 20, 30, 40, 50]\n",
    "swap_elements(lst, 1, 3)\n",
    "print(lst)\n"
   ]
  },
  {
   "cell_type": "code",
   "execution_count": null,
   "id": "bcdf22c3",
   "metadata": {},
   "outputs": [],
   "source": []
  },
  {
   "cell_type": "code",
   "execution_count": null,
   "id": "415e32eb",
   "metadata": {},
   "outputs": [],
   "source": []
  },
  {
   "cell_type": "code",
   "execution_count": null,
   "id": "829494da",
   "metadata": {},
   "outputs": [],
   "source": []
  },
  {
   "cell_type": "code",
   "execution_count": null,
   "id": "1593281a",
   "metadata": {},
   "outputs": [],
   "source": []
  },
  {
   "cell_type": "markdown",
   "id": "f87f7a0f",
   "metadata": {},
   "source": [
    "## Tuple Based Practice Problem :"
   ]
  },
  {
   "cell_type": "markdown",
   "id": "465ca5ed",
   "metadata": {},
   "source": [
    "1. Create a tuple with integers from 1 to 5."
   ]
  },
  {
   "cell_type": "code",
   "execution_count": 19,
   "id": "79c752eb",
   "metadata": {},
   "outputs": [
    {
     "data": {
      "text/plain": [
       "(1, 2, 3, 4, 5)"
      ]
     },
     "execution_count": 19,
     "metadata": {},
     "output_type": "execute_result"
    }
   ],
   "source": [
    "a = (1,2,3,4,5)\n",
    "a    \n"
   ]
  },
  {
   "cell_type": "markdown",
   "id": "bc11d7fe",
   "metadata": {},
   "source": [
    "2. Access the third element of a tuple."
   ]
  },
  {
   "cell_type": "code",
   "execution_count": 25,
   "id": "1707b474",
   "metadata": {},
   "outputs": [
    {
     "name": "stdout",
     "output_type": "stream",
     "text": [
      "The third element of a tuple is 5\n"
     ]
    }
   ],
   "source": [
    "a = (2,4,5,7,8,6)\n",
    "b = a[2]\n",
    "print('The third element of a tuple is', b)"
   ]
  },
  {
   "cell_type": "code",
   "execution_count": null,
   "id": "2500d721",
   "metadata": {},
   "outputs": [],
   "source": [
    "3. Find the length of a tuple without using the `len()` function."
   ]
  },
  {
   "cell_type": "code",
   "execution_count": 30,
   "id": "889a3a83",
   "metadata": {
    "scrolled": true
   },
   "outputs": [
    {
     "name": "stdout",
     "output_type": "stream",
     "text": [
      "The length of a tuple is : 6\n"
     ]
    }
   ],
   "source": [
    "a = (2,4,5,7,8,6)\n",
    "len_count = 0\n",
    "for i in a:\n",
    "    len_count += 1\n",
    "    \n",
    "print('The length of a tuple is :', len_count)\n",
    "    \n",
    "    \n",
    "    "
   ]
  },
  {
   "cell_type": "markdown",
   "id": "ba60bad8",
   "metadata": {},
   "source": [
    "4. Count the occurrences of an element in a tuple."
   ]
  },
  {
   "cell_type": "code",
   "execution_count": 40,
   "id": "d63b558b",
   "metadata": {},
   "outputs": [
    {
     "data": {
      "text/plain": [
       "3"
      ]
     },
     "execution_count": 40,
     "metadata": {},
     "output_type": "execute_result"
    }
   ],
   "source": [
    "a = (2,4,5,7,8,6,2,5,2)\n",
    "a.count(2)\n"
   ]
  },
  {
   "cell_type": "code",
   "execution_count": null,
   "id": "a2f4651a",
   "metadata": {},
   "outputs": [],
   "source": [
    "5. Find the index of the first occurrence of an element in a tuple."
   ]
  },
  {
   "cell_type": "code",
   "execution_count": 47,
   "id": "34e24586",
   "metadata": {},
   "outputs": [
    {
     "data": {
      "text/plain": [
       "1"
      ]
     },
     "execution_count": 47,
     "metadata": {},
     "output_type": "execute_result"
    }
   ],
   "source": [
    "a = (4,5,7,2,8,6,2,5,2)\n",
    "a.index(5)\n"
   ]
  },
  {
   "cell_type": "markdown",
   "id": "6208d48c",
   "metadata": {},
   "source": [
    "6. Check if an element exists in a tuple."
   ]
  },
  {
   "cell_type": "code",
   "execution_count": 6,
   "id": "181a1ab5",
   "metadata": {},
   "outputs": [
    {
     "name": "stdout",
     "output_type": "stream",
     "text": [
      "5\n"
     ]
    }
   ],
   "source": [
    "a = (4,5,7,2,8,6)\n",
    "target = 5\n",
    "\n",
    "for i in a:\n",
    "    if i == target:\n",
    "        print(i)\n"
   ]
  },
  {
   "cell_type": "markdown",
   "id": "604d41e0",
   "metadata": {},
   "source": [
    "7. Convert a tuple to a list."
   ]
  },
  {
   "cell_type": "code",
   "execution_count": 7,
   "id": "85cdc6b9",
   "metadata": {},
   "outputs": [
    {
     "data": {
      "text/plain": [
       "[4, 5, 7, 2, 8, 6]"
      ]
     },
     "execution_count": 7,
     "metadata": {},
     "output_type": "execute_result"
    }
   ],
   "source": [
    "a = (4,5,7,2,8,6)\n",
    "list(a)"
   ]
  },
  {
   "cell_type": "markdown",
   "id": "094630eb",
   "metadata": {},
   "source": [
    "8. Convert a list to a tuple."
   ]
  },
  {
   "cell_type": "code",
   "execution_count": 9,
   "id": "5eeb8454",
   "metadata": {},
   "outputs": [
    {
     "data": {
      "text/plain": [
       "(6, 3, 7, 8, 1, 2, 9)"
      ]
     },
     "execution_count": 9,
     "metadata": {},
     "output_type": "execute_result"
    }
   ],
   "source": [
    "l = [6,3,7,8,1,2,9]\n",
    "tuple(l)"
   ]
  },
  {
   "cell_type": "markdown",
   "id": "f95ea683",
   "metadata": {},
   "source": [
    "9. Unpack the elements of a tuple into variables."
   ]
  },
  {
   "cell_type": "code",
   "execution_count": 10,
   "id": "a15b4d9a",
   "metadata": {},
   "outputs": [
    {
     "name": "stdout",
     "output_type": "stream",
     "text": [
      "4\n",
      "5\n",
      "7\n",
      "2\n",
      "8\n",
      "6\n"
     ]
    }
   ],
   "source": [
    "a = (4,5,7,2,8,6)\n",
    "for i in a:\n",
    "    print(i)"
   ]
  },
  {
   "cell_type": "markdown",
   "id": "93724695",
   "metadata": {},
   "source": [
    "10. Create a tuple of even numbers from 1 to 10."
   ]
  },
  {
   "cell_type": "code",
   "execution_count": 38,
   "id": "83dfe3b5",
   "metadata": {},
   "outputs": [
    {
     "data": {
      "text/plain": [
       "(2, 4, 6, 8, 10)"
      ]
     },
     "execution_count": 38,
     "metadata": {},
     "output_type": "execute_result"
    }
   ],
   "source": [
    "even_tuple  = tuple(i for i in range(1,11) if i%2 == 0)\n",
    "even_tuple"
   ]
  },
  {
   "cell_type": "markdown",
   "id": "b37d4e45",
   "metadata": {},
   "source": [
    "11. Create a tuple of odd numbers from 1 to 10."
   ]
  },
  {
   "cell_type": "code",
   "execution_count": 39,
   "id": "1e128c2c",
   "metadata": {},
   "outputs": [
    {
     "data": {
      "text/plain": [
       "(1, 3, 5, 7, 9)"
      ]
     },
     "execution_count": 39,
     "metadata": {},
     "output_type": "execute_result"
    }
   ],
   "source": [
    "odd_tuple  = tuple(i for i in range(1,11) if i%2 == 1)\n",
    "odd_tuple"
   ]
  },
  {
   "cell_type": "markdown",
   "id": "e4ad0a6b",
   "metadata": {},
   "source": [
    "12. Concatenate two tuples."
   ]
  },
  {
   "cell_type": "code",
   "execution_count": 41,
   "id": "38122ed2",
   "metadata": {},
   "outputs": [
    {
     "name": "stdout",
     "output_type": "stream",
     "text": [
      "('riya', 'kiran', 'sam', 'cricket', 'khokho', 'football')\n"
     ]
    }
   ],
   "source": [
    "a = ('riya','kiran','sam')\n",
    "b = ('cricket','khokho','football')\n",
    "c = a + b\n",
    "print(c)"
   ]
  },
  {
   "cell_type": "markdown",
   "id": "f2991f60",
   "metadata": {},
   "source": [
    "13. Repeat a tuple three times."
   ]
  },
  {
   "cell_type": "code",
   "execution_count": 49,
   "id": "520ff895",
   "metadata": {},
   "outputs": [
    {
     "name": "stdout",
     "output_type": "stream",
     "text": [
      "(('riya', 'kiran', 'sam'), ('riya', 'kiran', 'sam'), ('riya', 'kiran', 'sam'))\n"
     ]
    }
   ],
   "source": [
    "a = ('riya','kiran','sam')\n",
    "z = ((a,))*3\n",
    "print(z)"
   ]
  },
  {
   "cell_type": "markdown",
   "id": "19c03e9c",
   "metadata": {},
   "source": [
    "14. Check if a tuple is empty."
   ]
  },
  {
   "cell_type": "code",
   "execution_count": 83,
   "id": "d7b4e6f0",
   "metadata": {},
   "outputs": [
    {
     "name": "stdout",
     "output_type": "stream",
     "text": [
      "Tuple is not empty\n"
     ]
    }
   ],
   "source": [
    "a = (1,2,3,4,4,5,5)\n",
    "if len(a) == 0:\n",
    "    print(\"Tuple is empty\")\n",
    "else :\n",
    "    print(\"Tuple is not empty\")\n"
   ]
  },
  {
   "cell_type": "markdown",
   "id": "94867998",
   "metadata": {},
   "source": [
    "15. Create a nested tuple."
   ]
  },
  {
   "cell_type": "code",
   "execution_count": 85,
   "id": "a0d986ff",
   "metadata": {},
   "outputs": [
    {
     "data": {
      "text/plain": [
       "(1, 2, 3, 4, 4, 5, 5, 9, 6, 5, 2, 7, 1, 6)"
      ]
     },
     "execution_count": 85,
     "metadata": {},
     "output_type": "execute_result"
    }
   ],
   "source": [
    "a = (1,2,3,4,4,5,5)\n",
    "b = (9,6,5,2,7,1,6)\n",
    "z = a+b\n",
    "z"
   ]
  },
  {
   "cell_type": "markdown",
   "id": "28a9feb5",
   "metadata": {},
   "source": [
    "16. Access the first element of a nested tuple."
   ]
  },
  {
   "cell_type": "code",
   "execution_count": 20,
   "id": "fd1aba78",
   "metadata": {},
   "outputs": [
    {
     "name": "stdout",
     "output_type": "stream",
     "text": [
      "(1, 2, 3)\n"
     ]
    }
   ],
   "source": [
    "# Example nested tuple\n",
    "nested_tuple = ((1, 2, 3), (4, 5, 6), (7, 8, 9))\n",
    "\n",
    "# Accessing the first element of the outer tuple\n",
    "first_element = nested_tuple[0]\n",
    "\n",
    "print(first_element)\n"
   ]
  },
  {
   "cell_type": "code",
   "execution_count": 21,
   "id": "e4f775ba",
   "metadata": {},
   "outputs": [
    {
     "name": "stdout",
     "output_type": "stream",
     "text": [
      "1\n"
     ]
    }
   ],
   "source": [
    "# Accessing the first element of the first nested tuple\n",
    "first_element_of_first_nested = nested_tuple[0][0]\n",
    "\n",
    "print(first_element_of_first_nested)\n"
   ]
  },
  {
   "cell_type": "markdown",
   "id": "744a166c",
   "metadata": {},
   "source": [
    "17. Create a tuple with a single element."
   ]
  },
  {
   "cell_type": "code",
   "execution_count": 22,
   "id": "89ec3178",
   "metadata": {},
   "outputs": [
    {
     "name": "stdout",
     "output_type": "stream",
     "text": [
      "(42,)\n"
     ]
    }
   ],
   "source": [
    "# Creating a tuple with a single element\n",
    "single_element_tuple = (42,)\n",
    "\n",
    "print(single_element_tuple)\n"
   ]
  },
  {
   "cell_type": "markdown",
   "id": "bc3757ed",
   "metadata": {},
   "source": [
    "18. Compare two tuples."
   ]
  },
  {
   "cell_type": "code",
   "execution_count": 23,
   "id": "0ebaaf68",
   "metadata": {},
   "outputs": [
    {
     "name": "stdout",
     "output_type": "stream",
     "text": [
      "False\n",
      "True\n",
      "False\n"
     ]
    }
   ],
   "source": [
    "tuple1 = (1, 2, 3)\n",
    "tuple2 = (1, 2, 4)\n",
    "\n",
    "# Compare tuples\n",
    "print(tuple1 == tuple2)  # Check if they are equal\n",
    "print(tuple1 < tuple2)   # Check if tuple1 is less than tuple2\n",
    "print(tuple1 > tuple2)   # Check if tuple1 is greater than tuple2\n"
   ]
  },
  {
   "cell_type": "markdown",
   "id": "dc61aac2",
   "metadata": {},
   "source": [
    "19. Delete a tuple."
   ]
  },
  {
   "cell_type": "code",
   "execution_count": 25,
   "id": "8d29d8d9",
   "metadata": {},
   "outputs": [],
   "source": [
    "# Create a tuple\n",
    "my_tuple = (1, 2, 3)\n",
    "\n",
    "# Delete the tuple\n",
    "del my_tuple\n"
   ]
  },
  {
   "cell_type": "markdown",
   "id": "6ddd9f16",
   "metadata": {},
   "source": [
    "20. Slice a tuple."
   ]
  },
  {
   "cell_type": "code",
   "execution_count": 26,
   "id": "454355c0",
   "metadata": {},
   "outputs": [
    {
     "name": "stdout",
     "output_type": "stream",
     "text": [
      "(20, 30, 40)\n"
     ]
    }
   ],
   "source": [
    "# Example tuple\n",
    "my_tuple = (10, 20, 30, 40, 50, 60)\n",
    "\n",
    "# Slice the tuple\n",
    "slice1 = my_tuple[1:4]     # Elements from index 1 to 3\n",
    "\n",
    "print(slice1)  # Output: (20, 30, 40)\n"
   ]
  },
  {
   "cell_type": "markdown",
   "id": "87b2049d",
   "metadata": {},
   "source": [
    "21. Find the maximum value in a tuple."
   ]
  },
  {
   "cell_type": "code",
   "execution_count": 27,
   "id": "70a080f8",
   "metadata": {},
   "outputs": [
    {
     "name": "stdout",
     "output_type": "stream",
     "text": [
      "20\n"
     ]
    }
   ],
   "source": [
    "# Example tuple\n",
    "my_tuple = (10, 20, 5, 8, 15)\n",
    "\n",
    "# Find the maximum value\n",
    "max_value = max(my_tuple)\n",
    "\n",
    "print(max_value)\n"
   ]
  },
  {
   "cell_type": "markdown",
   "id": "81f17392",
   "metadata": {},
   "source": [
    "22. Find the minimum value in a tuple."
   ]
  },
  {
   "cell_type": "code",
   "execution_count": 28,
   "id": "8c3ff661",
   "metadata": {},
   "outputs": [
    {
     "name": "stdout",
     "output_type": "stream",
     "text": [
      "5\n"
     ]
    }
   ],
   "source": [
    "# Example tuple\n",
    "my_tuple = (10, 20, 5, 8, 15)\n",
    "\n",
    "# Find the minimum value\n",
    "min_value = min(my_tuple)\n",
    "\n",
    "print(min_value)\n"
   ]
  },
  {
   "cell_type": "markdown",
   "id": "f4deea04",
   "metadata": {},
   "source": [
    "23. Convert a string to a tuple of characters."
   ]
  },
  {
   "cell_type": "code",
   "execution_count": 29,
   "id": "cd2d4b64",
   "metadata": {},
   "outputs": [
    {
     "name": "stdout",
     "output_type": "stream",
     "text": [
      "('h', 'e', 'l', 'l', 'o')\n"
     ]
    }
   ],
   "source": [
    "# Example string\n",
    "my_string = \"hello\"\n",
    "\n",
    "# Convert string to a tuple of characters\n",
    "char_tuple = tuple(my_string)\n",
    "\n",
    "print(char_tuple)\n"
   ]
  },
  {
   "cell_type": "markdown",
   "id": "11cb0244",
   "metadata": {},
   "source": [
    "24. Convert a tuple of characters to a string."
   ]
  },
  {
   "cell_type": "code",
   "execution_count": 30,
   "id": "e9cee7b7",
   "metadata": {},
   "outputs": [
    {
     "name": "stdout",
     "output_type": "stream",
     "text": [
      "hello\n"
     ]
    }
   ],
   "source": [
    "# Example tuple of characters\n",
    "char_tuple = ('h', 'e', 'l', 'l', 'o')\n",
    "\n",
    "# Convert tuple of characters to a string\n",
    "resulting_string = ''.join(char_tuple)\n",
    "\n",
    "print(resulting_string)\n"
   ]
  },
  {
   "cell_type": "markdown",
   "id": "db822363",
   "metadata": {},
   "source": [
    "25. Create a tuple from multiple data types."
   ]
  },
  {
   "cell_type": "code",
   "execution_count": 31,
   "id": "c093ea8a",
   "metadata": {},
   "outputs": [
    {
     "name": "stdout",
     "output_type": "stream",
     "text": [
      "(42, 'hello', 3.14, True, [1, 2, 3], (4, 5))\n"
     ]
    }
   ],
   "source": [
    "# Creating a tuple with multiple data types\n",
    "mixed_tuple = (42, \"hello\", 3.14, True, [1, 2, 3], (4, 5))\n",
    "\n",
    "print(mixed_tuple)\n"
   ]
  },
  {
   "cell_type": "markdown",
   "id": "65dcde9f",
   "metadata": {},
   "source": [
    "26. Check if two tuples are identical."
   ]
  },
  {
   "cell_type": "code",
   "execution_count": 32,
   "id": "485fc1c7",
   "metadata": {},
   "outputs": [
    {
     "name": "stdout",
     "output_type": "stream",
     "text": [
      "True\n",
      "False\n"
     ]
    }
   ],
   "source": [
    "# Example tuples\n",
    "tuple1 = (1, 2, 3, 'hello')\n",
    "tuple2 = (1, 2, 3, 'hello')\n",
    "tuple3 = (1, 2, 3, 'world')\n",
    "\n",
    "# Check if tuples are identical\n",
    "print(tuple1 == tuple2)  \n",
    "print(tuple1 == tuple3) \n",
    "\n"
   ]
  },
  {
   "cell_type": "markdown",
   "id": "fd04852c",
   "metadata": {},
   "source": [
    "27. Sort the elements of a tuple."
   ]
  },
  {
   "cell_type": "code",
   "execution_count": 33,
   "id": "1ca9063b",
   "metadata": {},
   "outputs": [
    {
     "name": "stdout",
     "output_type": "stream",
     "text": [
      "(1, 2, 3, 4, 5)\n"
     ]
    }
   ],
   "source": [
    "# Example tuple\n",
    "my_tuple = (4, 1, 3, 2, 5)\n",
    "\n",
    "# Sort the tuple\n",
    "sorted_tuple = tuple(sorted(my_tuple))\n",
    "\n",
    "print(sorted_tuple)\n"
   ]
  },
  {
   "cell_type": "markdown",
   "id": "4610db10",
   "metadata": {},
   "source": [
    "28. Convert a tuple of integers to a tuple of strings."
   ]
  },
  {
   "cell_type": "code",
   "execution_count": 34,
   "id": "ab637154",
   "metadata": {},
   "outputs": [
    {
     "name": "stdout",
     "output_type": "stream",
     "text": [
      "('1', '2', '3', '4', '5')\n"
     ]
    }
   ],
   "source": [
    "# Example tuple of integers\n",
    "int_tuple = (1, 2, 3, 4, 5)\n",
    "\n",
    "# Convert tuple of integers to tuple of strings\n",
    "str_tuple = tuple(str(x) for x in int_tuple)\n",
    "\n",
    "print(str_tuple)\n"
   ]
  },
  {
   "cell_type": "markdown",
   "id": "a0e9ed6f",
   "metadata": {},
   "source": [
    "29. Convert a tuple of strings to a tuple of integers."
   ]
  },
  {
   "cell_type": "code",
   "execution_count": 35,
   "id": "2cb99e84",
   "metadata": {},
   "outputs": [
    {
     "name": "stdout",
     "output_type": "stream",
     "text": [
      "(1, 2, 3, 4, 5)\n"
     ]
    }
   ],
   "source": [
    "# Example tuple of strings\n",
    "str_tuple = ('1', '2', '3', '4', '5')\n",
    "\n",
    "# Convert tuple of strings to tuple of integers\n",
    "int_tuple = tuple(int(x) for x in str_tuple)\n",
    "\n",
    "print(int_tuple)\n"
   ]
  },
  {
   "cell_type": "markdown",
   "id": "e9da97e8",
   "metadata": {},
   "source": [
    "30. Merge two tuples."
   ]
  },
  {
   "cell_type": "code",
   "execution_count": 36,
   "id": "bdc08aea",
   "metadata": {},
   "outputs": [
    {
     "name": "stdout",
     "output_type": "stream",
     "text": [
      "(1, 2, 3, 4, 5, 6)\n"
     ]
    }
   ],
   "source": [
    "# Example tuples\n",
    "tuple1 = (1, 2, 3)\n",
    "tuple2 = (4, 5, 6)\n",
    "\n",
    "# Merge the tuples\n",
    "merged_tuple = tuple1 + tuple2\n",
    "\n",
    "print(merged_tuple)\n"
   ]
  },
  {
   "cell_type": "markdown",
   "id": "11f58553",
   "metadata": {},
   "source": [
    "31. Flatten a nested tuple."
   ]
  },
  {
   "cell_type": "code",
   "execution_count": 37,
   "id": "1f4c4392",
   "metadata": {},
   "outputs": [
    {
     "name": "stdout",
     "output_type": "stream",
     "text": [
      "(1, 2, 3, 4, 5, 6, 7, 8)\n"
     ]
    }
   ],
   "source": [
    "def flatten_tuple(t):\n",
    "    flat_list = []\n",
    "\n",
    "    def flatten(x):\n",
    "        if isinstance(x, tuple):\n",
    "            for item in x:\n",
    "                flatten(item)\n",
    "        else:\n",
    "            flat_list.append(x)\n",
    "\n",
    "    flatten(t)\n",
    "    return tuple(flat_list)\n",
    "\n",
    "# Example usage\n",
    "nested_tuple = ((1, 2, (3, 4)), (5, (6, 7)), 8)\n",
    "flattened_tuple = flatten_tuple(nested_tuple)\n",
    "print(flattened_tuple)\n"
   ]
  },
  {
   "cell_type": "markdown",
   "id": "11a334e8",
   "metadata": {},
   "source": [
    "32. Create a tuple of the first 5 prime numbers."
   ]
  },
  {
   "cell_type": "code",
   "execution_count": 38,
   "id": "ecda0dcc",
   "metadata": {},
   "outputs": [
    {
     "name": "stdout",
     "output_type": "stream",
     "text": [
      "(2, 3, 5, 7, 11)\n"
     ]
    }
   ],
   "source": [
    "def is_prime(n):\n",
    "    if n <= 1:\n",
    "        return False\n",
    "    for i in range(2, int(n**0.5) + 1):\n",
    "        if n % i == 0:\n",
    "            return False\n",
    "    return True\n",
    "\n",
    "def first_n_primes(n):\n",
    "    primes = []\n",
    "    num = 2\n",
    "    while len(primes) < n:\n",
    "        if is_prime(num):\n",
    "            primes.append(num)\n",
    "        num += 1\n",
    "    return tuple(primes)\n",
    "\n",
    "# Create a tuple of the first 5 prime numbers\n",
    "prime_tuple = first_n_primes(5)\n",
    "print(prime_tuple)\n"
   ]
  },
  {
   "cell_type": "markdown",
   "id": "9257adc4",
   "metadata": {},
   "source": [
    "33. Check if a tuple is a palindrome."
   ]
  },
  {
   "cell_type": "code",
   "execution_count": 39,
   "id": "fe9d0831",
   "metadata": {},
   "outputs": [
    {
     "name": "stdout",
     "output_type": "stream",
     "text": [
      "True\n",
      "False\n"
     ]
    }
   ],
   "source": [
    "def is_palindrome(t):\n",
    "    return t == t[::-1]\n",
    "\n",
    "# Example usage\n",
    "tuple1 = (1, 2, 3, 2, 1)\n",
    "tuple2 = (1, 2, 3, 4, 5)\n",
    "\n",
    "print(is_palindrome(tuple1))  \n",
    "print(is_palindrome(tuple2)) \n"
   ]
  },
  {
   "cell_type": "markdown",
   "id": "dd4e17b2",
   "metadata": {},
   "source": [
    "34. Create a tuple of squares of numbers from 1 to 5."
   ]
  },
  {
   "cell_type": "code",
   "execution_count": 40,
   "id": "044b080c",
   "metadata": {},
   "outputs": [
    {
     "name": "stdout",
     "output_type": "stream",
     "text": [
      "(1, 4, 9, 16, 25)\n"
     ]
    }
   ],
   "source": [
    "# Create a tuple of squares of numbers from 1 to 5\n",
    "squares_tuple = tuple(x**2 for x in range(1, 6))\n",
    "\n",
    "print(squares_tuple)\n"
   ]
  },
  {
   "cell_type": "markdown",
   "id": "853d851c",
   "metadata": {},
   "source": [
    "35. Filter out all even numbers from a tuple."
   ]
  },
  {
   "cell_type": "code",
   "execution_count": 42,
   "id": "fc7972eb",
   "metadata": {},
   "outputs": [
    {
     "name": "stdout",
     "output_type": "stream",
     "text": [
      "(2, 4, 6, 8)\n"
     ]
    }
   ],
   "source": [
    "\n",
    "numbers_tuple = (1, 2, 3, 4, 5, 6, 7, 8, 9)\n",
    "\n",
    "# Filter out all even numbers\n",
    "filtered_tuple = tuple(x for x in numbers_tuple if x % 2 == 0)\n",
    "\n",
    "print(filtered_tuple)\n"
   ]
  },
  {
   "cell_type": "markdown",
   "id": "4df5eec1",
   "metadata": {},
   "source": [
    "36. Multiply all elements in a tuple by 2."
   ]
  },
  {
   "cell_type": "code",
   "execution_count": 43,
   "id": "a80587db",
   "metadata": {},
   "outputs": [
    {
     "name": "stdout",
     "output_type": "stream",
     "text": [
      "(2, 4, 6, 8, 10)\n"
     ]
    }
   ],
   "source": [
    "# Example tuple\n",
    "numbers_tuple = (1, 2, 3, 4, 5)\n",
    "\n",
    "# Multiply all elements by 2\n",
    "multiplied_tuple = tuple(x * 2 for x in numbers_tuple)\n",
    "\n",
    "print(multiplied_tuple)\n"
   ]
  },
  {
   "cell_type": "markdown",
   "id": "a71c5317",
   "metadata": {},
   "source": [
    "37. Create a tuple of random numbers."
   ]
  },
  {
   "cell_type": "code",
   "execution_count": 44,
   "id": "d3867724",
   "metadata": {},
   "outputs": [
    {
     "name": "stdout",
     "output_type": "stream",
     "text": [
      "(2, 94, 49, 26, 10)\n"
     ]
    }
   ],
   "source": [
    "import random\n",
    "\n",
    "# Function to create a tuple of random numbers\n",
    "def random_tuple(size, start, end):\n",
    "    return tuple(random.randint(start, end) for _ in range(size))\n",
    "\n",
    "# Example usage\n",
    "size = 5  # Number of random numbers\n",
    "start = 1  # Start of the range (inclusive)\n",
    "end = 100  # End of the range (inclusive)\n",
    "\n",
    "random_numbers = random_tuple(size, start, end)\n",
    "print(random_numbers)\n"
   ]
  },
  {
   "cell_type": "markdown",
   "id": "a55fa4c3",
   "metadata": {},
   "source": [
    "38. Check if a tuple is sorted."
   ]
  },
  {
   "cell_type": "code",
   "execution_count": 45,
   "id": "f880d240",
   "metadata": {},
   "outputs": [
    {
     "name": "stdout",
     "output_type": "stream",
     "text": [
      "True\n",
      "False\n"
     ]
    }
   ],
   "source": [
    "def is_sorted(t):\n",
    "    return t == tuple(sorted(t))\n",
    "\n",
    "# Example usage\n",
    "tuple1 = (1, 2, 3, 4, 5)\n",
    "tuple2 = (5, 3, 1, 4, 2)\n",
    "\n",
    "print(is_sorted(tuple1)) \n",
    "print(is_sorted(tuple2))  \n"
   ]
  },
  {
   "cell_type": "markdown",
   "id": "c8f816ac",
   "metadata": {},
   "source": [
    "39. Rotate a tuple to the left by `n` positions."
   ]
  },
  {
   "cell_type": "code",
   "execution_count": 46,
   "id": "8a4eae62",
   "metadata": {},
   "outputs": [
    {
     "name": "stdout",
     "output_type": "stream",
     "text": [
      "(3, 4, 5, 1, 2)\n"
     ]
    }
   ],
   "source": [
    "def rotate_tuple_left(t, n):\n",
    "    n = n % len(t)  # Handle cases where n is larger than the tuple length\n",
    "    return t[n:] + t[:n]\n",
    "\n",
    "# Example usage\n",
    "tuple1 = (1, 2, 3, 4, 5)\n",
    "n = 2\n",
    "\n",
    "rotated_tuple = rotate_tuple_left(tuple1, n)\n",
    "print(rotated_tuple)\n"
   ]
  },
  {
   "cell_type": "markdown",
   "id": "c54c2f5b",
   "metadata": {},
   "source": [
    "40. Rotate a tuple to the right by `n` positions."
   ]
  },
  {
   "cell_type": "code",
   "execution_count": 47,
   "id": "9185c7d3",
   "metadata": {},
   "outputs": [
    {
     "name": "stdout",
     "output_type": "stream",
     "text": [
      "(4, 5, 1, 2, 3)\n"
     ]
    }
   ],
   "source": [
    "def rotate_tuple_right(t, n):\n",
    "    n = n % len(t)  # Handle cases where n is larger than the tuple length\n",
    "    return t[-n:] + t[:-n]\n",
    "\n",
    "# Example usage\n",
    "tuple1 = (1, 2, 3, 4, 5)\n",
    "n = 2\n",
    "\n",
    "rotated_tuple = rotate_tuple_right(tuple1, n)\n",
    "print(rotated_tuple)\n"
   ]
  },
  {
   "cell_type": "markdown",
   "id": "20b67997",
   "metadata": {},
   "source": [
    "41. Create a tuple of the first 5 Fibonacci numbers."
   ]
  },
  {
   "cell_type": "code",
   "execution_count": 48,
   "id": "73876376",
   "metadata": {},
   "outputs": [
    {
     "name": "stdout",
     "output_type": "stream",
     "text": [
      "(0, 1, 1, 2, 3)\n"
     ]
    }
   ],
   "source": [
    "def fibonacci(n):\n",
    "    sequence = []\n",
    "    a, b = 0, 1\n",
    "    while len(sequence) < n:\n",
    "        sequence.append(a)\n",
    "        a, b = b, a + b\n",
    "    return tuple(sequence)\n",
    "\n",
    "# Create a tuple of the first 5 Fibonacci numbers\n",
    "fibonacci_tuple = fibonacci(5)\n",
    "print(fibonacci_tuple)\n"
   ]
  },
  {
   "cell_type": "markdown",
   "id": "3f141db0",
   "metadata": {},
   "source": [
    "42. Create a tuple from user input."
   ]
  },
  {
   "cell_type": "code",
   "execution_count": 49,
   "id": "d6b22bed",
   "metadata": {},
   "outputs": [
    {
     "name": "stdout",
     "output_type": "stream",
     "text": [
      "Enter values separated by commas: 2,3,4,1,11,2,3,5,66\n",
      "('2', '3', '4', '1', '11', '2', '3', '5', '66')\n"
     ]
    }
   ],
   "source": [
    "# Prompt the user for input\n",
    "user_input = input(\"Enter values separated by commas: \")\n",
    "\n",
    "# Split the input string into a list of values\n",
    "values_list = user_input.split(',')\n",
    "\n",
    "# Remove any leading or trailing whitespace from each value\n",
    "values_list = [value.strip() for value in values_list]\n",
    "\n",
    "# Convert the list to a tuple\n",
    "values_tuple = tuple(values_list)\n",
    "\n",
    "print(values_tuple)\n"
   ]
  },
  {
   "cell_type": "markdown",
   "id": "9a24ab3a",
   "metadata": {},
   "source": [
    "43. Swap two elements in a tuple."
   ]
  },
  {
   "cell_type": "code",
   "execution_count": 50,
   "id": "1e07eda8",
   "metadata": {},
   "outputs": [
    {
     "name": "stdout",
     "output_type": "stream",
     "text": [
      "(1, 4, 3, 2, 5)\n"
     ]
    }
   ],
   "source": [
    "def swap_elements(t, index1, index2):\n",
    "    # Convert the tuple to a list to make it mutable\n",
    "    temp_list = list(t)\n",
    "    \n",
    "    # Swap the elements at index1 and index2\n",
    "    temp_list[index1], temp_list[index2] = temp_list[index2], temp_list[index1]\n",
    "    \n",
    "    # Convert the list back to a tuple\n",
    "    return tuple(temp_list)\n",
    "\n",
    "# Example usage\n",
    "original_tuple = (1, 2, 3, 4, 5)\n",
    "index1 = 1\n",
    "index2 = 3\n",
    "\n",
    "swapped_tuple = swap_elements(original_tuple, index1, index2)\n",
    "print(swapped_tuple)\n"
   ]
  },
  {
   "cell_type": "markdown",
   "id": "be4333ea",
   "metadata": {},
   "source": [
    "44. Reverse the elements of a tuple."
   ]
  },
  {
   "cell_type": "code",
   "execution_count": 51,
   "id": "f7435842",
   "metadata": {},
   "outputs": [
    {
     "name": "stdout",
     "output_type": "stream",
     "text": [
      "(5, 4, 3, 2, 1)\n"
     ]
    }
   ],
   "source": [
    "# Example tuple\n",
    "original_tuple = (1, 2, 3, 4, 5)\n",
    "\n",
    "# Reverse the tuple\n",
    "reversed_tuple = original_tuple[::-1]\n",
    "\n",
    "print(reversed_tuple)\n"
   ]
  },
  {
   "cell_type": "markdown",
   "id": "e3491354",
   "metadata": {},
   "source": [
    "45. Create a tuple of the first `n` powers of 2."
   ]
  },
  {
   "cell_type": "code",
   "execution_count": 52,
   "id": "8e956b0e",
   "metadata": {},
   "outputs": [
    {
     "name": "stdout",
     "output_type": "stream",
     "text": [
      "(1, 2, 4, 8, 16)\n"
     ]
    }
   ],
   "source": [
    "def powers_of_2(n):\n",
    "    return tuple(2**i for i in range(n))\n",
    "\n",
    "# Example usage\n",
    "n = 5\n",
    "\n",
    "powers_tuple = powers_of_2(n)\n",
    "print(powers_tuple)\n"
   ]
  },
  {
   "cell_type": "markdown",
   "id": "d0dce9ab",
   "metadata": {},
   "source": [
    "46. Find the longest string in a tuple of strings."
   ]
  },
  {
   "cell_type": "code",
   "execution_count": 53,
   "id": "ef4f6333",
   "metadata": {},
   "outputs": [
    {
     "name": "stdout",
     "output_type": "stream",
     "text": [
      "elderberry\n"
     ]
    }
   ],
   "source": [
    "def longest_string(strings_tuple):\n",
    "    return max(strings_tuple, key=len)\n",
    "\n",
    "# Example usage\n",
    "strings_tuple = (\"apple\", \"banana\", \"cherry\", \"date\", \"elderberry\")\n",
    "\n",
    "longest = longest_string(strings_tuple)\n",
    "print(longest)\n"
   ]
  },
  {
   "cell_type": "markdown",
   "id": "a1d44b07",
   "metadata": {},
   "source": [
    "47. Find the shortest string in a tuple of strings."
   ]
  },
  {
   "cell_type": "code",
   "execution_count": 54,
   "id": "9cfc41ce",
   "metadata": {},
   "outputs": [
    {
     "name": "stdout",
     "output_type": "stream",
     "text": [
      "date\n"
     ]
    }
   ],
   "source": [
    "def shortest_string(strings_tuple):\n",
    "    return min(strings_tuple, key=len)\n",
    "\n",
    "# Example usage\n",
    "strings_tuple = (\"apple\", \"banana\", \"cherry\", \"date\", \"elderberry\")\n",
    "\n",
    "shortest = shortest_string(strings_tuple)\n",
    "print(shortest)\n"
   ]
  },
  {
   "cell_type": "markdown",
   "id": "bec982a5",
   "metadata": {},
   "source": [
    "48. Create a tuple of the first `n` triangular numbers."
   ]
  },
  {
   "cell_type": "code",
   "execution_count": 55,
   "id": "b498b955",
   "metadata": {},
   "outputs": [
    {
     "name": "stdout",
     "output_type": "stream",
     "text": [
      "(1, 3, 6, 10, 15)\n"
     ]
    }
   ],
   "source": [
    "def triangular_numbers(n):\n",
    "    return tuple(k * (k + 1) // 2 for k in range(1, n + 1))\n",
    "\n",
    "# Example usage\n",
    "n = 5\n",
    "\n",
    "triangular_tuple = triangular_numbers(n)\n",
    "print(triangular_tuple)\n"
   ]
  },
  {
   "cell_type": "markdown",
   "id": "378c0038",
   "metadata": {},
   "source": [
    "49. Check if a tuple contains another tuple as a subsequence."
   ]
  },
  {
   "cell_type": "code",
   "execution_count": 56,
   "id": "ca6bd719",
   "metadata": {},
   "outputs": [
    {
     "name": "stdout",
     "output_type": "stream",
     "text": [
      "True\n",
      "False\n"
     ]
    }
   ],
   "source": [
    "def contains_subsequence(t, sub):\n",
    "    # Length of the tuple and the subsequence\n",
    "    len_t, len_sub = len(t), len(sub)\n",
    "    \n",
    "    # Edge case: subsequence cannot be longer than the main tuple\n",
    "    if len_sub > len_t:\n",
    "        return False\n",
    "    \n",
    "    # Iterate over the tuple and check for matching subsequence\n",
    "    for i in range(len_t - len_sub + 1):\n",
    "        if t[i:i + len_sub] == sub:\n",
    "            return True\n",
    "    \n",
    "    return False\n",
    "\n",
    "# Example usage\n",
    "main_tuple = (1, 2, 3, 4, 5, 6)\n",
    "sub_tuple = (3, 4, 5)\n",
    "\n",
    "result = contains_subsequence(main_tuple, sub_tuple)\n",
    "print(result)  # This will be True\n",
    "\n",
    "sub_tuple2 = (4, 6)\n",
    "result2 = contains_subsequence(main_tuple, sub_tuple2)\n",
    "print(result2)  # This will be False\n"
   ]
  },
  {
   "cell_type": "markdown",
   "id": "6be1bd38",
   "metadata": {},
   "source": [
    "50. Create a tuple of alternating 1s and 0s of length `n`."
   ]
  },
  {
   "cell_type": "code",
   "execution_count": 57,
   "id": "a9ec1124",
   "metadata": {},
   "outputs": [
    {
     "name": "stdout",
     "output_type": "stream",
     "text": [
      "(0, 1, 0, 1, 0, 1, 0, 1, 0, 1)\n"
     ]
    }
   ],
   "source": [
    "def alternating_tuple(n):\n",
    "    return tuple((i % 2) for i in range(n))\n",
    "\n",
    "# Example usage\n",
    "n = 10\n",
    "\n",
    "alt_tuple = alternating_tuple(n)\n",
    "print(alt_tuple)\n"
   ]
  },
  {
   "cell_type": "code",
   "execution_count": null,
   "id": "084ffea2",
   "metadata": {},
   "outputs": [],
   "source": []
  },
  {
   "cell_type": "code",
   "execution_count": null,
   "id": "9856f6a0",
   "metadata": {},
   "outputs": [],
   "source": []
  },
  {
   "cell_type": "code",
   "execution_count": null,
   "id": "0b354600",
   "metadata": {},
   "outputs": [],
   "source": []
  },
  {
   "cell_type": "code",
   "execution_count": null,
   "id": "150fc2dd",
   "metadata": {},
   "outputs": [],
   "source": []
  },
  {
   "cell_type": "code",
   "execution_count": null,
   "id": "34d48dfe",
   "metadata": {},
   "outputs": [],
   "source": []
  },
  {
   "cell_type": "code",
   "execution_count": null,
   "id": "c48e7d92",
   "metadata": {},
   "outputs": [],
   "source": []
  },
  {
   "cell_type": "markdown",
   "id": "78f885a3",
   "metadata": {},
   "source": [
    "## Set Based Practice Problem :"
   ]
  },
  {
   "cell_type": "markdown",
   "id": "33948c06",
   "metadata": {},
   "source": [
    "1. Create a set with integers from 1 to 5."
   ]
  },
  {
   "cell_type": "code",
   "execution_count": 58,
   "id": "c59037ca",
   "metadata": {},
   "outputs": [
    {
     "name": "stdout",
     "output_type": "stream",
     "text": [
      "{1, 2, 3, 4, 5}\n"
     ]
    }
   ],
   "source": [
    "# Create a set with integers from 1 to 5\n",
    "integer_set = set(range(1, 6))\n",
    "\n",
    "print(integer_set)\n"
   ]
  },
  {
   "cell_type": "markdown",
   "id": "859d2cc1",
   "metadata": {},
   "source": [
    "2. Add an element to a set."
   ]
  },
  {
   "cell_type": "code",
   "execution_count": 59,
   "id": "a9ada01c",
   "metadata": {},
   "outputs": [
    {
     "name": "stdout",
     "output_type": "stream",
     "text": [
      "{1, 2, 3, 4, 5, 6}\n"
     ]
    }
   ],
   "source": [
    "# Create a set\n",
    "integer_set = {1, 2, 3, 4, 5}\n",
    "\n",
    "# Add an element to the set\n",
    "integer_set.add(6)\n",
    "\n",
    "print(integer_set)\n"
   ]
  },
  {
   "cell_type": "markdown",
   "id": "35b7f4f3",
   "metadata": {},
   "source": [
    "3. Remove an element from a set."
   ]
  },
  {
   "cell_type": "code",
   "execution_count": 60,
   "id": "27711554",
   "metadata": {},
   "outputs": [
    {
     "name": "stdout",
     "output_type": "stream",
     "text": [
      "{1, 2, 4, 5}\n"
     ]
    }
   ],
   "source": [
    "# Create a set\n",
    "integer_set = {1, 2, 3, 4, 5}\n",
    "\n",
    "# Remove an element from the set\n",
    "integer_set.remove(3)\n",
    "\n",
    "print(integer_set)\n"
   ]
  },
  {
   "cell_type": "markdown",
   "id": "1b13b654",
   "metadata": {},
   "source": [
    "4. Check if an element exists in a set."
   ]
  },
  {
   "cell_type": "code",
   "execution_count": 61,
   "id": "c981bf40",
   "metadata": {},
   "outputs": [
    {
     "name": "stdout",
     "output_type": "stream",
     "text": [
      "True\n"
     ]
    }
   ],
   "source": [
    "# Create a set\n",
    "integer_set = {1, 2, 3, 4, 5}\n",
    "\n",
    "# Check if an element exists in the set\n",
    "element = 3\n",
    "exists = element in integer_set\n",
    "\n",
    "print(exists)  # This will be True if the element is in the set\n"
   ]
  },
  {
   "cell_type": "markdown",
   "id": "74ae742f",
   "metadata": {},
   "source": [
    "5. Find the length of a set without using the `len()` function."
   ]
  },
  {
   "cell_type": "code",
   "execution_count": 62,
   "id": "e973fcaa",
   "metadata": {},
   "outputs": [
    {
     "name": "stdout",
     "output_type": "stream",
     "text": [
      "5\n"
     ]
    }
   ],
   "source": [
    "# Create a set\n",
    "integer_set = {1, 2, 3, 4, 5}\n",
    "\n",
    "# Find the length of the set without using len()\n",
    "count = 0\n",
    "for _ in integer_set:\n",
    "    count += 1\n",
    "\n",
    "print(count)\n"
   ]
  },
  {
   "cell_type": "markdown",
   "id": "8828be56",
   "metadata": {},
   "source": [
    "6. Clear all elements from a set."
   ]
  },
  {
   "cell_type": "code",
   "execution_count": 63,
   "id": "c1715376",
   "metadata": {},
   "outputs": [
    {
     "name": "stdout",
     "output_type": "stream",
     "text": [
      "set()\n"
     ]
    }
   ],
   "source": [
    "# Create a set\n",
    "integer_set = {1, 2, 3, 4, 5}\n",
    "\n",
    "# Clear all elements from the set\n",
    "integer_set.clear()\n",
    "\n",
    "print(integer_set)  # This will be an empty set\n"
   ]
  },
  {
   "cell_type": "markdown",
   "id": "42cb0deb",
   "metadata": {},
   "source": [
    "7. Create a set of even numbers from 1 to 10."
   ]
  },
  {
   "cell_type": "code",
   "execution_count": 64,
   "id": "689d98a1",
   "metadata": {},
   "outputs": [
    {
     "name": "stdout",
     "output_type": "stream",
     "text": [
      "{2, 4, 6, 8, 10}\n"
     ]
    }
   ],
   "source": [
    "# Create a set of even numbers from 1 to 10\n",
    "even_numbers = {x for x in range(1, 11) if x % 2 == 0}\n",
    "\n",
    "print(even_numbers)\n"
   ]
  },
  {
   "cell_type": "markdown",
   "id": "965b2f48",
   "metadata": {},
   "source": [
    "8. Create a set of odd numbers from 1 to 10."
   ]
  },
  {
   "cell_type": "code",
   "execution_count": 65,
   "id": "de191378",
   "metadata": {},
   "outputs": [
    {
     "name": "stdout",
     "output_type": "stream",
     "text": [
      "{1, 3, 5, 7, 9}\n"
     ]
    }
   ],
   "source": [
    "odd_numbers = {x for x in range(1, 11) if x % 2 != 0}\n",
    "\n",
    "print(odd_numbers)"
   ]
  },
  {
   "cell_type": "markdown",
   "id": "46debfc3",
   "metadata": {},
   "source": [
    "9. Find the union of two sets."
   ]
  },
  {
   "cell_type": "code",
   "execution_count": 66,
   "id": "c6ac5fbe",
   "metadata": {},
   "outputs": [
    {
     "name": "stdout",
     "output_type": "stream",
     "text": [
      "{1, 2, 3, 4, 5, 6}\n"
     ]
    }
   ],
   "source": [
    "# Create two sets\n",
    "set1 = {1, 2, 3, 4}\n",
    "set2 = {3, 4, 5, 6}\n",
    "\n",
    "# Find the union of the two sets\n",
    "union_set = set1 | set2\n",
    "\n",
    "print(union_set)\n"
   ]
  },
  {
   "cell_type": "markdown",
   "id": "73851783",
   "metadata": {},
   "source": [
    "10. Find the intersection of two sets."
   ]
  },
  {
   "cell_type": "code",
   "execution_count": 67,
   "id": "1edab580",
   "metadata": {},
   "outputs": [
    {
     "name": "stdout",
     "output_type": "stream",
     "text": [
      "{3, 4}\n"
     ]
    }
   ],
   "source": [
    "# Create two sets\n",
    "set1 = {1, 2, 3, 4}\n",
    "set2 = {3, 4, 5, 6}\n",
    "\n",
    "# Find the intersection of the two sets\n",
    "intersection_set = set1 & set2\n",
    "\n",
    "print(intersection_set)\n"
   ]
  },
  {
   "cell_type": "markdown",
   "id": "e05c973d",
   "metadata": {},
   "source": [
    "11. Find the difference between two sets."
   ]
  },
  {
   "cell_type": "code",
   "execution_count": 68,
   "id": "0d66c552",
   "metadata": {},
   "outputs": [
    {
     "name": "stdout",
     "output_type": "stream",
     "text": [
      "{1, 2}\n"
     ]
    }
   ],
   "source": [
    "# Create two sets\n",
    "set1 = {1, 2, 3, 4}\n",
    "set2 = {3, 4, 5, 6}\n",
    "\n",
    "# Find the difference between the two sets\n",
    "difference_set = set1 - set2\n",
    "\n",
    "print(difference_set)\n"
   ]
  },
  {
   "cell_type": "markdown",
   "id": "a579810a",
   "metadata": {},
   "source": [
    "12. Check if a set is a subset of another set."
   ]
  },
  {
   "cell_type": "code",
   "execution_count": 69,
   "id": "f4aa6867",
   "metadata": {},
   "outputs": [
    {
     "name": "stdout",
     "output_type": "stream",
     "text": [
      "True\n"
     ]
    }
   ],
   "source": [
    "# Create two sets\n",
    "set1 = {1, 2, 3}\n",
    "set2 = {1, 2, 3, 4, 5}\n",
    "\n",
    "# Check if set1 is a subset of set2\n",
    "is_subset = set1.issubset(set2)\n",
    "\n",
    "print(is_subset)  # This will be True if set1 is a subset of set2\n"
   ]
  },
  {
   "cell_type": "markdown",
   "id": "3bc503a3",
   "metadata": {},
   "source": [
    "13. Check if a set is a superset of another set."
   ]
  },
  {
   "cell_type": "code",
   "execution_count": 70,
   "id": "f36f6589",
   "metadata": {},
   "outputs": [
    {
     "name": "stdout",
     "output_type": "stream",
     "text": [
      "True\n"
     ]
    }
   ],
   "source": [
    "# Create two sets\n",
    "set1 = {1, 2, 3, 4, 5}\n",
    "set2 = {1, 2, 3}\n",
    "\n",
    "# Check if set1 is a superset of set2\n",
    "is_superset = set1.issuperset(set2)\n",
    "\n",
    "print(is_superset)  # This will be True if set1 is a superset of set2\n"
   ]
  },
  {
   "cell_type": "markdown",
   "id": "0ab502a0",
   "metadata": {},
   "source": [
    "14. Create a set from a list."
   ]
  },
  {
   "cell_type": "code",
   "execution_count": 71,
   "id": "3c4c8c82",
   "metadata": {},
   "outputs": [
    {
     "name": "stdout",
     "output_type": "stream",
     "text": [
      "{1, 2, 3, 4, 5}\n"
     ]
    }
   ],
   "source": [
    "# Create a list with some duplicate elements\n",
    "my_list = [1, 2, 2, 3, 4, 4, 5]\n",
    "\n",
    "# Convert the list to a set\n",
    "my_set = set(my_list)\n",
    "\n",
    "print(my_set)\n"
   ]
  },
  {
   "cell_type": "markdown",
   "id": "b9c304e9",
   "metadata": {},
   "source": [
    "15. Convert a set to a list."
   ]
  },
  {
   "cell_type": "code",
   "execution_count": 72,
   "id": "df2044b5",
   "metadata": {},
   "outputs": [
    {
     "name": "stdout",
     "output_type": "stream",
     "text": [
      "[1, 2, 3, 4, 5]\n"
     ]
    }
   ],
   "source": [
    "# Create a set\n",
    "my_set = {1, 2, 3, 4, 5}\n",
    "\n",
    "# Convert the set to a list\n",
    "my_list = list(my_set)\n",
    "\n",
    "print(my_list)\n"
   ]
  },
  {
   "cell_type": "markdown",
   "id": "204e55b9",
   "metadata": {},
   "source": [
    "16. Remove a random element from a set."
   ]
  },
  {
   "cell_type": "code",
   "execution_count": 73,
   "id": "e34a6a25",
   "metadata": {},
   "outputs": [
    {
     "name": "stdout",
     "output_type": "stream",
     "text": [
      "Removed element: 1\n",
      "Updated set: {2, 3, 4, 5}\n"
     ]
    }
   ],
   "source": [
    "# Create a set\n",
    "my_set = {1, 2, 3, 4, 5}\n",
    "\n",
    "# Remove a random element from the set\n",
    "random_element = my_set.pop()\n",
    "\n",
    "print(f\"Removed element: {random_element}\")\n",
    "print(f\"Updated set: {my_set}\")\n"
   ]
  },
  {
   "cell_type": "markdown",
   "id": "132f8843",
   "metadata": {},
   "source": [
    "17. Pop an element from a set."
   ]
  },
  {
   "cell_type": "code",
   "execution_count": 74,
   "id": "0ee5f376",
   "metadata": {},
   "outputs": [
    {
     "name": "stdout",
     "output_type": "stream",
     "text": [
      "Popped element: 50\n",
      "Updated set: {20, 40, 10, 30}\n"
     ]
    }
   ],
   "source": [
    "# Create a set\n",
    "my_set = {10, 20, 30, 40, 50}\n",
    "\n",
    "# Pop an element from the set\n",
    "popped_element = my_set.pop()\n",
    "\n",
    "print(f\"Popped element: {popped_element}\")\n",
    "print(f\"Updated set: {my_set}\")\n"
   ]
  },
  {
   "cell_type": "markdown",
   "id": "3e244206",
   "metadata": {},
   "source": [
    "18. Check if two sets have no elements in common."
   ]
  },
  {
   "cell_type": "code",
   "execution_count": 75,
   "id": "4a1712c2",
   "metadata": {},
   "outputs": [
    {
     "name": "stdout",
     "output_type": "stream",
     "text": [
      "True\n"
     ]
    }
   ],
   "source": [
    "# Create two sets\n",
    "set1 = {1, 2, 3}\n",
    "set2 = {4, 5, 6}\n",
    "\n",
    "# Check if the two sets have no elements in common\n",
    "no_common_elements = set1.isdisjoint(set2)\n",
    "\n",
    "print(no_common_elements)  # This will be True if there are no common elements\n"
   ]
  },
  {
   "cell_type": "markdown",
   "id": "03735284",
   "metadata": {},
   "source": [
    "19. Find the symmetric difference between two sets."
   ]
  },
  {
   "cell_type": "code",
   "execution_count": 76,
   "id": "2b864343",
   "metadata": {},
   "outputs": [
    {
     "name": "stdout",
     "output_type": "stream",
     "text": [
      "{1, 2, 5, 6}\n"
     ]
    }
   ],
   "source": [
    "# Create two sets\n",
    "set1 = {1, 2, 3, 4}\n",
    "set2 = {3, 4, 5, 6}\n",
    "\n",
    "# Find the symmetric difference between the two sets\n",
    "symmetric_diff = set1.symmetric_difference(set2)\n",
    "\n",
    "print(symmetric_diff)\n"
   ]
  },
  {
   "cell_type": "markdown",
   "id": "f94bd115",
   "metadata": {},
   "source": [
    "20. Update a set with elements from another set."
   ]
  },
  {
   "cell_type": "code",
   "execution_count": 77,
   "id": "7f64ffcb",
   "metadata": {},
   "outputs": [
    {
     "name": "stdout",
     "output_type": "stream",
     "text": [
      "{1, 2, 3, 4, 5}\n"
     ]
    }
   ],
   "source": [
    "# Create two sets\n",
    "set1 = {1, 2, 3}\n",
    "set2 = {3, 4, 5}\n",
    "\n",
    "# Update set1 with elements from set2\n",
    "set1.update(set2)\n",
    "\n",
    "print(set1)\n"
   ]
  },
  {
   "cell_type": "markdown",
   "id": "3cdb4d8d",
   "metadata": {},
   "source": [
    "21. Create a set of the first 5 prime numbers."
   ]
  },
  {
   "cell_type": "code",
   "execution_count": 78,
   "id": "5ad41f87",
   "metadata": {},
   "outputs": [
    {
     "name": "stdout",
     "output_type": "stream",
     "text": [
      "{2, 3, 5, 7, 11}\n"
     ]
    }
   ],
   "source": [
    "# Function to check if a number is prime\n",
    "def is_prime(n):\n",
    "    if n <= 1:\n",
    "        return False\n",
    "    for i in range(2, int(n**0.5) + 1):\n",
    "        if n % i == 0:\n",
    "            return False\n",
    "    return True\n",
    "\n",
    "# Generate the first 5 prime numbers\n",
    "def generate_primes(count):\n",
    "    primes = set()\n",
    "    num = 2\n",
    "    while len(primes) < count:\n",
    "        if is_prime(num):\n",
    "            primes.add(num)\n",
    "        num += 1\n",
    "    return primes\n",
    "\n",
    "# Create a set of the first 5 prime numbers\n",
    "first_5_primes = generate_primes(5)\n",
    "\n",
    "print(first_5_primes)\n"
   ]
  },
  {
   "cell_type": "markdown",
   "id": "143b7fd1",
   "metadata": {},
   "source": [
    "22. Check if two sets are identical."
   ]
  },
  {
   "cell_type": "code",
   "execution_count": 79,
   "id": "e66da8af",
   "metadata": {},
   "outputs": [
    {
     "name": "stdout",
     "output_type": "stream",
     "text": [
      "True\n"
     ]
    }
   ],
   "source": [
    "# Create two sets\n",
    "set1 = {1, 2, 3, 4}\n",
    "set2 = {4, 3, 2, 1}\n",
    "\n",
    "# Check if the two sets are identical\n",
    "are_identical = set1 == set2\n",
    "\n",
    "print(are_identical)  # This will be True if the sets are identical\n"
   ]
  },
  {
   "cell_type": "markdown",
   "id": "c930161d",
   "metadata": {},
   "source": [
    "23. Create a frozen set."
   ]
  },
  {
   "cell_type": "code",
   "execution_count": 80,
   "id": "9322e034",
   "metadata": {},
   "outputs": [
    {
     "name": "stdout",
     "output_type": "stream",
     "text": [
      "frozenset({1, 2, 3, 4, 5})\n"
     ]
    }
   ],
   "source": [
    "# Create a frozenset\n",
    "my_frozenset = frozenset([1, 2, 3, 4, 5])\n",
    "\n",
    "print(my_frozenset)\n"
   ]
  },
  {
   "cell_type": "markdown",
   "id": "bb4e3852",
   "metadata": {},
   "source": [
    "24. Check if a set is disjoint with another set."
   ]
  },
  {
   "cell_type": "code",
   "execution_count": 81,
   "id": "428a570f",
   "metadata": {},
   "outputs": [
    {
     "name": "stdout",
     "output_type": "stream",
     "text": [
      "True\n"
     ]
    }
   ],
   "source": [
    "# Create two sets\n",
    "set1 = {1, 2, 3}\n",
    "set2 = {4, 5, 6}\n",
    "\n",
    "# Check if set1 is disjoint with set2\n",
    "are_disjoint = set1.isdisjoint(set2)\n",
    "\n",
    "print(are_disjoint)  # This will be True if the sets are disjoint\n"
   ]
  },
  {
   "cell_type": "markdown",
   "id": "6d262781",
   "metadata": {},
   "source": [
    "25. Create a set of squares of numbers from 1 to 5."
   ]
  },
  {
   "cell_type": "code",
   "execution_count": 82,
   "id": "1105d8c1",
   "metadata": {},
   "outputs": [
    {
     "name": "stdout",
     "output_type": "stream",
     "text": [
      "{1, 4, 9, 16, 25}\n"
     ]
    }
   ],
   "source": [
    "# Create a set of squares of numbers from 1 to 5\n",
    "squares_set = {x**2 for x in range(1, 6)}\n",
    "\n",
    "print(squares_set)\n"
   ]
  },
  {
   "cell_type": "markdown",
   "id": "fd69bf9f",
   "metadata": {},
   "source": [
    "26. Filter out all even numbers from a set."
   ]
  },
  {
   "cell_type": "code",
   "execution_count": 84,
   "id": "d742fd72",
   "metadata": {},
   "outputs": [
    {
     "name": "stdout",
     "output_type": "stream",
     "text": [
      "{2, 4, 6, 8, 10}\n"
     ]
    }
   ],
   "source": [
    "# Create a set of numbers\n",
    "numbers_set = {1, 2, 3, 4, 5, 6, 7, 8, 9, 10}\n",
    "\n",
    "# Filter out all even numbers\n",
    "odd_numbers_set = {num for num in numbers_set if num % 2 == 0}\n",
    "\n",
    "print(odd_numbers_set)\n"
   ]
  },
  {
   "cell_type": "markdown",
   "id": "ec229afa",
   "metadata": {},
   "source": [
    "27. Multiply all elements in a set by 2."
   ]
  },
  {
   "cell_type": "code",
   "execution_count": 85,
   "id": "debdf0bf",
   "metadata": {},
   "outputs": [
    {
     "name": "stdout",
     "output_type": "stream",
     "text": [
      "{2, 4, 6, 8, 10}\n"
     ]
    }
   ],
   "source": [
    "# Create a set of numbers\n",
    "numbers_set = {1, 2, 3, 4, 5}\n",
    "\n",
    "# Multiply all elements in the set by 2\n",
    "doubled_set = {num * 2 for num in numbers_set}\n",
    "\n",
    "print(doubled_set)\n"
   ]
  },
  {
   "cell_type": "markdown",
   "id": "21048a93",
   "metadata": {},
   "source": [
    "28. Create a set of random numbers."
   ]
  },
  {
   "cell_type": "code",
   "execution_count": 86,
   "id": "4fb30090",
   "metadata": {},
   "outputs": [
    {
     "name": "stdout",
     "output_type": "stream",
     "text": [
      "{1, 2, 100, 40, 8, 76, 50, 52, 55, 31}\n"
     ]
    }
   ],
   "source": [
    "import random\n",
    "\n",
    "# Define the number of random numbers and the range\n",
    "num_random_numbers = 10\n",
    "range_start = 1\n",
    "range_end = 100\n",
    "\n",
    "# Create a set of random numbers\n",
    "random_numbers_set = {random.randint(range_start, range_end) for _ in range(num_random_numbers)}\n",
    "\n",
    "print(random_numbers_set)\n"
   ]
  },
  {
   "cell_type": "markdown",
   "id": "a8749dfc",
   "metadata": {},
   "source": [
    "29. Check if a set is empty."
   ]
  },
  {
   "cell_type": "code",
   "execution_count": 87,
   "id": "437177ac",
   "metadata": {},
   "outputs": [
    {
     "name": "stdout",
     "output_type": "stream",
     "text": [
      "The set is empty.\n"
     ]
    }
   ],
   "source": [
    "# Create a set\n",
    "my_set = set()  # An empty set\n",
    "\n",
    "# Check if the set is empty\n",
    "if not my_set:\n",
    "    print(\"The set is empty.\")\n",
    "else:\n",
    "    print(\"The set is not empty.\")\n"
   ]
  },
  {
   "cell_type": "markdown",
   "id": "e37a7686",
   "metadata": {},
   "source": [
    "30. Create a nested set (hint: use frozenset)."
   ]
  },
  {
   "cell_type": "code",
   "execution_count": 88,
   "id": "b455d596",
   "metadata": {},
   "outputs": [
    {
     "name": "stdout",
     "output_type": "stream",
     "text": [
      "{frozenset({1, 2, 3}), frozenset({4, 5, 6})}\n"
     ]
    }
   ],
   "source": [
    "# Create frozensets\n",
    "nested_set1 = frozenset({1, 2, 3})\n",
    "nested_set2 = frozenset({4, 5, 6})\n",
    "\n",
    "# Create a set containing frozensets\n",
    "nested_set = {nested_set1, nested_set2}\n",
    "\n",
    "print(nested_set)\n"
   ]
  },
  {
   "cell_type": "markdown",
   "id": "8a2c73b1",
   "metadata": {},
   "source": [
    "31. Remove an element from a set using the discard method."
   ]
  },
  {
   "cell_type": "code",
   "execution_count": 89,
   "id": "4c1ba23d",
   "metadata": {},
   "outputs": [
    {
     "name": "stdout",
     "output_type": "stream",
     "text": [
      "{1, 2, 4, 5}\n"
     ]
    }
   ],
   "source": [
    "# Create a set of numbers\n",
    "numbers_set = {1, 2, 3, 4, 5}\n",
    "\n",
    "# Element to be removed\n",
    "element_to_remove = 3\n",
    "\n",
    "# Remove the element from the set\n",
    "numbers_set.discard(element_to_remove)\n",
    "\n",
    "print(numbers_set)\n"
   ]
  },
  {
   "cell_type": "markdown",
   "id": "27d878cb",
   "metadata": {},
   "source": [
    "32. Compare two sets."
   ]
  },
  {
   "cell_type": "code",
   "execution_count": 90,
   "id": "4ee8c6f4",
   "metadata": {},
   "outputs": [
    {
     "name": "stdout",
     "output_type": "stream",
     "text": [
      "True\n"
     ]
    }
   ],
   "source": [
    "# Create two sets\n",
    "set1 = {1, 2, 3}\n",
    "set2 = {3, 2, 1}\n",
    "\n",
    "# Check if sets are equal\n",
    "are_equal = set1 == set2\n",
    "\n",
    "print(are_equal)  # True if the sets are equal\n"
   ]
  },
  {
   "cell_type": "markdown",
   "id": "d151d12e",
   "metadata": {},
   "source": [
    "33. Create a set from a string."
   ]
  },
  {
   "cell_type": "code",
   "execution_count": 91,
   "id": "b4ad7569",
   "metadata": {},
   "outputs": [
    {
     "name": "stdout",
     "output_type": "stream",
     "text": [
      "{'e', 'o', 'h', 'l'}\n"
     ]
    }
   ],
   "source": [
    "# Create a string\n",
    "string = \"hello\"\n",
    "\n",
    "# Create a set from the string\n",
    "char_set = set(string)\n",
    "\n",
    "print(char_set)\n"
   ]
  },
  {
   "cell_type": "code",
   "execution_count": null,
   "id": "e165989f",
   "metadata": {},
   "outputs": [],
   "source": [
    "34. Convert a set of strings to a set of integers."
   ]
  },
  {
   "cell_type": "code",
   "execution_count": 92,
   "id": "2b0a1982",
   "metadata": {},
   "outputs": [
    {
     "name": "stdout",
     "output_type": "stream",
     "text": [
      "{1, 2, 3, 4, 5}\n"
     ]
    }
   ],
   "source": [
    "# Create a set of strings\n",
    "string_set = {'1', '2', '3', '4', '5'}\n",
    "\n",
    "# Convert the set of strings to a set of integers\n",
    "integer_set = {int(s) for s in string_set}\n",
    "\n",
    "print(integer_set)\n"
   ]
  },
  {
   "cell_type": "markdown",
   "id": "d1779c7f",
   "metadata": {},
   "source": [
    "35. Convert a set of integers to a set of strings."
   ]
  },
  {
   "cell_type": "code",
   "execution_count": 93,
   "id": "bf027b49",
   "metadata": {},
   "outputs": [
    {
     "name": "stdout",
     "output_type": "stream",
     "text": [
      "{'2', '5', '1', '4', '3'}\n"
     ]
    }
   ],
   "source": [
    "# Create a set of integers\n",
    "integer_set = {1, 2, 3, 4, 5}\n",
    "\n",
    "# Convert the set of integers to a set of strings\n",
    "string_set = {str(num) for num in integer_set}\n",
    "\n",
    "print(string_set)\n"
   ]
  },
  {
   "cell_type": "markdown",
   "id": "fb73df55",
   "metadata": {},
   "source": [
    "36. Create a set from a tuple."
   ]
  },
  {
   "cell_type": "code",
   "execution_count": 94,
   "id": "071b6720",
   "metadata": {},
   "outputs": [
    {
     "name": "stdout",
     "output_type": "stream",
     "text": [
      "{1, 2, 3, 4, 5}\n"
     ]
    }
   ],
   "source": [
    "# Create a tuple\n",
    "my_tuple = (1, 2, 3, 4, 5)\n",
    "\n",
    "# Create a set from the tuple\n",
    "my_set = set(my_tuple)\n",
    "\n",
    "print(my_set)\n"
   ]
  },
  {
   "cell_type": "markdown",
   "id": "1c8d074a",
   "metadata": {},
   "source": [
    "37. Convert a set to a tuple."
   ]
  },
  {
   "cell_type": "code",
   "execution_count": 95,
   "id": "8f0c9dc1",
   "metadata": {},
   "outputs": [
    {
     "name": "stdout",
     "output_type": "stream",
     "text": [
      "(1, 2, 3, 4, 5)\n"
     ]
    }
   ],
   "source": [
    "# Create a set\n",
    "my_set = {1, 2, 3, 4, 5}\n",
    "\n",
    "# Convert the set to a tuple\n",
    "my_tuple = tuple(my_set)\n",
    "\n",
    "print(my_tuple)\n"
   ]
  },
  {
   "cell_type": "markdown",
   "id": "46541250",
   "metadata": {},
   "source": [
    "38. Find the maximum value in a set."
   ]
  },
  {
   "cell_type": "code",
   "execution_count": 96,
   "id": "cecf0479",
   "metadata": {},
   "outputs": [
    {
     "name": "stdout",
     "output_type": "stream",
     "text": [
      "5\n"
     ]
    }
   ],
   "source": [
    "# Create a set of numbers\n",
    "my_set = {1, 2, 3, 4, 5}\n",
    "\n",
    "# Find the maximum value in the set\n",
    "max_value = max(my_set)\n",
    "\n",
    "print(max_value)\n"
   ]
  },
  {
   "cell_type": "markdown",
   "id": "70d8f28a",
   "metadata": {},
   "source": [
    "39. Find the minimum value in a set."
   ]
  },
  {
   "cell_type": "code",
   "execution_count": 97,
   "id": "679b4b63",
   "metadata": {},
   "outputs": [
    {
     "name": "stdout",
     "output_type": "stream",
     "text": [
      "1\n"
     ]
    }
   ],
   "source": [
    "# Create a set of numbers\n",
    "my_set = {1, 2, 3, 4, 5}\n",
    "\n",
    "# Find the minimum value in the set\n",
    "min_value = min(my_set)\n",
    "\n",
    "print(min_value)\n"
   ]
  },
  {
   "cell_type": "markdown",
   "id": "3dafeedf",
   "metadata": {},
   "source": [
    "40. Create a set from user input."
   ]
  },
  {
   "cell_type": "code",
   "execution_count": 98,
   "id": "83bfe421",
   "metadata": {},
   "outputs": [
    {
     "name": "stdout",
     "output_type": "stream",
     "text": [
      "Enter elements separated by spaces: 3 4 5 2 2 33 5 5\n",
      "{'2', '5', '4', '3', '33'}\n"
     ]
    }
   ],
   "source": [
    "# Get user input\n",
    "user_input = input(\"Enter elements separated by spaces: \")\n",
    "\n",
    "# Split the input string into a list of elements\n",
    "elements = user_input.split()\n",
    "\n",
    "# Create a set from the list of elements\n",
    "user_set = set(elements)\n",
    "\n",
    "print(user_set)\n"
   ]
  },
  {
   "cell_type": "markdown",
   "id": "04d866f4",
   "metadata": {},
   "source": [
    "41. Check if the intersection of two sets is empty."
   ]
  },
  {
   "cell_type": "code",
   "execution_count": 99,
   "id": "4c5ed751",
   "metadata": {},
   "outputs": [
    {
     "name": "stdout",
     "output_type": "stream",
     "text": [
      "True\n"
     ]
    }
   ],
   "source": [
    "# Create two sets\n",
    "set1 = {1, 2, 3}\n",
    "set2 = {4, 5, 6}\n",
    "\n",
    "# Find the intersection of the two sets\n",
    "intersection = set1 & set2\n",
    "\n",
    "# Check if the intersection is empty\n",
    "is_empty = not intersection\n",
    "\n",
    "print(is_empty)  # True if the intersection is empty\n"
   ]
  },
  {
   "cell_type": "markdown",
   "id": "853d8c45",
   "metadata": {},
   "source": [
    "42. Create a set of the first 5 Fibonacci numbers."
   ]
  },
  {
   "cell_type": "code",
   "execution_count": 100,
   "id": "11a4bcd9",
   "metadata": {},
   "outputs": [
    {
     "name": "stdout",
     "output_type": "stream",
     "text": [
      "{0, 1, 2, 3}\n"
     ]
    }
   ],
   "source": [
    "# Function to generate the first n Fibonacci numbers\n",
    "def generate_fibonacci(n):\n",
    "    fib_sequence = []\n",
    "    a, b = 0, 1\n",
    "    while len(fib_sequence) < n:\n",
    "        fib_sequence.append(a)\n",
    "        a, b = b, a + b\n",
    "    return fib_sequence\n",
    "\n",
    "# Generate the first 5 Fibonacci numbers\n",
    "first_5_fibonacci = generate_fibonacci(5)\n",
    "\n",
    "# Convert the list of Fibonacci numbers to a set\n",
    "fibonacci_set = set(first_5_fibonacci)\n",
    "\n",
    "print(fibonacci_set)\n"
   ]
  },
  {
   "cell_type": "markdown",
   "id": "230a3630",
   "metadata": {},
   "source": [
    "43. Remove duplicates from a list using sets."
   ]
  },
  {
   "cell_type": "code",
   "execution_count": 101,
   "id": "cffbb70e",
   "metadata": {},
   "outputs": [
    {
     "name": "stdout",
     "output_type": "stream",
     "text": [
      "[1, 2, 3, 4, 5, 6]\n"
     ]
    }
   ],
   "source": [
    "# Create a list with duplicates\n",
    "my_list = [1, 2, 3, 4, 2, 5, 1, 6, 3]\n",
    "\n",
    "# Remove duplicates by converting the list to a set\n",
    "unique_set = set(my_list)\n",
    "\n",
    "# Convert the set back to a list (if you need a list)\n",
    "unique_list = list(unique_set)\n",
    "\n",
    "print(unique_list)\n"
   ]
  },
  {
   "cell_type": "markdown",
   "id": "94cd9008",
   "metadata": {},
   "source": [
    "44. Check if two sets have the same elements, regardless of their count."
   ]
  },
  {
   "cell_type": "code",
   "execution_count": 102,
   "id": "d387e10e",
   "metadata": {},
   "outputs": [
    {
     "name": "stdout",
     "output_type": "stream",
     "text": [
      "True\n"
     ]
    }
   ],
   "source": [
    "# Create two sets\n",
    "set1 = {1, 2, 3, 4}\n",
    "set2 = {4, 3, 2, 1}\n",
    "\n",
    "# Check if the sets have the same elements\n",
    "are_equal = set1 == set2\n",
    "\n",
    "print(are_equal)  # True if the sets contain the same elements\n"
   ]
  },
  {
   "cell_type": "markdown",
   "id": "aca039fd",
   "metadata": {},
   "source": [
    "45. Create a set of the first `n` powers of 2."
   ]
  },
  {
   "cell_type": "code",
   "execution_count": 103,
   "id": "ec90eeb1",
   "metadata": {},
   "outputs": [
    {
     "name": "stdout",
     "output_type": "stream",
     "text": [
      "{1, 2, 4, 8, 16}\n"
     ]
    }
   ],
   "source": [
    "# Define the number of powers of 2 to generate\n",
    "n = 5\n",
    "\n",
    "# Create a set of the first n powers of 2\n",
    "powers_of_2 = {2 ** i for i in range(n)}\n",
    "\n",
    "print(powers_of_2)\n"
   ]
  },
  {
   "cell_type": "markdown",
   "id": "2aef2d86",
   "metadata": {},
   "source": [
    "46. Find the common elements between a set and a list."
   ]
  },
  {
   "cell_type": "code",
   "execution_count": null,
   "id": "b4ca4747",
   "metadata": {},
   "outputs": [],
   "source": [
    "# Define a set and a list\n",
    "my_set = {1, 2, 3, 4, 5}\n",
    "my_list = [3, 4, 5, 6, 7]\n",
    "\n",
    "# Convert the list to a set\n",
    "list_set = set(my_list)\n",
    "\n",
    "# Find the intersection of the set and the set created from the list\n",
    "common_elements = my_set & list_set\n",
    "\n",
    "print(common_elements)\n"
   ]
  },
  {
   "cell_type": "markdown",
   "id": "07292315",
   "metadata": {},
   "source": [
    "47. Create a set of the first `n` triangular numbers."
   ]
  },
  {
   "cell_type": "code",
   "execution_count": 105,
   "id": "0dcea3e3",
   "metadata": {},
   "outputs": [
    {
     "name": "stdout",
     "output_type": "stream",
     "text": [
      "{1, 3, 6, 10, 15}\n"
     ]
    }
   ],
   "source": [
    "# Define the number of triangular numbers to generate\n",
    "n = 5\n",
    "\n",
    "# Create a set of the first n triangular numbers\n",
    "triangular_numbers = {k * (k + 1) // 2 for k in range(1, n + 1)}\n",
    "\n",
    "print(triangular_numbers)\n"
   ]
  },
  {
   "cell_type": "markdown",
   "id": "0b56d2d0",
   "metadata": {},
   "source": [
    "48. Check if a set contains another set as a subset."
   ]
  },
  {
   "cell_type": "code",
   "execution_count": 106,
   "id": "56948403",
   "metadata": {},
   "outputs": [
    {
     "name": "stdout",
     "output_type": "stream",
     "text": [
      "True\n"
     ]
    }
   ],
   "source": [
    "# Define the sets\n",
    "main_set = {1, 2, 3, 4, 5}\n",
    "subset_set = {2, 4}\n",
    "\n",
    "# Check if subset_set is a subset of main_set\n",
    "is_subset = subset_set.issubset(main_set)\n",
    "\n",
    "print(is_subset)  # True if subset_set is a subset of main_set\n"
   ]
  },
  {
   "cell_type": "markdown",
   "id": "35e3add8",
   "metadata": {},
   "source": [
    "49. Create a set of alternating 1s and 0s of length `n`."
   ]
  },
  {
   "cell_type": "code",
   "execution_count": 107,
   "id": "2cf18ed1",
   "metadata": {},
   "outputs": [
    {
     "name": "stdout",
     "output_type": "stream",
     "text": [
      "[0, 1, 0, 1, 0, 1, 0, 1, 0, 1]\n"
     ]
    }
   ],
   "source": [
    "# Define the length of the alternating pattern\n",
    "n = 10\n",
    "\n",
    "# Create a list with alternating 1s and 0s\n",
    "alternating_list = [i % 2 for i in range(n)]\n",
    "\n",
    "print(alternating_list)\n"
   ]
  },
  {
   "cell_type": "markdown",
   "id": "bd9183c9",
   "metadata": {},
   "source": [
    "50. Merge multiple sets into one."
   ]
  },
  {
   "cell_type": "code",
   "execution_count": 108,
   "id": "5d4e17ab",
   "metadata": {},
   "outputs": [
    {
     "name": "stdout",
     "output_type": "stream",
     "text": [
      "{1, 2, 3, 4, 5, 6, 7}\n"
     ]
    }
   ],
   "source": [
    "# Define multiple sets\n",
    "set1 = {1, 2, 3}\n",
    "set2 = {3, 4, 5}\n",
    "set3 = {5, 6, 7}\n",
    "\n",
    "# Merge the sets using the | operator\n",
    "merged_set = set1 | set2 | set3\n",
    "\n",
    "print(merged_set)\n"
   ]
  },
  {
   "cell_type": "code",
   "execution_count": null,
   "id": "b9a37ee8",
   "metadata": {},
   "outputs": [],
   "source": []
  },
  {
   "cell_type": "code",
   "execution_count": null,
   "id": "bc7857c0",
   "metadata": {},
   "outputs": [],
   "source": []
  },
  {
   "cell_type": "code",
   "execution_count": null,
   "id": "bd950267",
   "metadata": {},
   "outputs": [],
   "source": []
  },
  {
   "cell_type": "code",
   "execution_count": null,
   "id": "13679043",
   "metadata": {},
   "outputs": [],
   "source": []
  },
  {
   "cell_type": "code",
   "execution_count": null,
   "id": "897eeb37",
   "metadata": {},
   "outputs": [],
   "source": []
  },
  {
   "cell_type": "code",
   "execution_count": null,
   "id": "9be0c1e7",
   "metadata": {},
   "outputs": [],
   "source": []
  },
  {
   "cell_type": "code",
   "execution_count": null,
   "id": "87b11654",
   "metadata": {},
   "outputs": [],
   "source": []
  },
  {
   "cell_type": "code",
   "execution_count": null,
   "id": "685de577",
   "metadata": {},
   "outputs": [],
   "source": []
  },
  {
   "cell_type": "code",
   "execution_count": null,
   "id": "f20c681a",
   "metadata": {},
   "outputs": [],
   "source": []
  },
  {
   "cell_type": "code",
   "execution_count": null,
   "id": "1be6b019",
   "metadata": {},
   "outputs": [],
   "source": []
  }
 ],
 "metadata": {
  "kernelspec": {
   "display_name": "Python 3 (ipykernel)",
   "language": "python",
   "name": "python3"
  },
  "language_info": {
   "codemirror_mode": {
    "name": "ipython",
    "version": 3
   },
   "file_extension": ".py",
   "mimetype": "text/x-python",
   "name": "python",
   "nbconvert_exporter": "python",
   "pygments_lexer": "ipython3",
   "version": "3.9.13"
  }
 },
 "nbformat": 4,
 "nbformat_minor": 5
}
